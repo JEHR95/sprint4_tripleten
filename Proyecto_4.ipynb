{
 "cells": [
  {
   "cell_type": "markdown",
   "id": "e16be797-b4ac-40cb-a965-d30c5387ddf3",
   "metadata": {},
   "source": [
    "¡Hola, Javier!\n",
    "\n",
    "Mi nombre es Tonatiuh Cruz. Me complace revisar tu proyecto hoy.\n",
    "\n",
    "Al identificar cualquier error inicialmente, simplemente los destacaré. Te animo a localizar y abordar los problemas de forma independiente como parte de tu preparación para un rol como data-analyst. En un entorno profesional, tu líder de equipo seguiría un enfoque similar. Si encuentras la tarea desafiante, proporcionaré una pista más específica en la próxima iteración.\n",
    "\n",
    "Encontrarás mis comentarios a continuación - **por favor no los muevas, modifiques o elimines**.\n",
    "\n",
    "Puedes encontrar mis comentarios en cajas verdes, amarillas o rojas como esta:\n",
    "\n",
    "<div class=\"alert alert-block alert-success\">\n",
    "<b>Comentario del revisor</b> <a class=\"tocSkip\"></a>\n",
    "\n",
    "Éxito. Todo está hecho correctamente.\n",
    "</div>\n",
    "\n",
    "<div class=\"alert alert-block alert-warning\">\n",
    "<b>Comentario del revisor</b> <a class=\"tocSkip\"></a>\n",
    "\n",
    "Observaciones. Algunas recomendaciones.\n",
    "</div>\n",
    "\n",
    "<div class=\"alert alert-block alert-danger\">\n",
    "<b>Comentario del revisor</b> <a class=\"tocSkip\"></a>\n",
    "\n",
    "Necesita corrección. El bloque requiere algunas correcciones. El trabajo no puede ser aceptado con comentarios en rojo.\n",
    "</div>\n",
    "\n",
    "Puedes responderme utilizando esto:\n",
    "\n",
    "<div class=\"alert alert-block alert-info\">\n",
    "<b>Respuesta del estudiante.</b> <a class=\"tocSkip\"></a>\n",
    "</div>"
   ]
  },
  {
   "cell_type": "markdown",
   "id": "16c8aabc-724e-4545-ae16-5ab34b5bd3a9",
   "metadata": {},
   "source": [
    "<div class=\"alert alert-block alert-success\">\n",
    "<b>Resumen de la revisión 1</b> <a class=\"tocSkip\"></a>\n",
    "\n",
    "Hola, Javier! Has hecho un excelente trabajo al realizar el proyecto, cargaste correctamente la información y la limpieza de esta información. \n",
    "\n",
    "Sigue con el excelente trabajo!\n",
    "</div>"
   ]
  },
  {
   "cell_type": "markdown",
   "id": "3Xg_RQfnafXz",
   "metadata": {
    "id": "3Xg_RQfnafXz"
   },
   "source": [
    "# ¡Llena ese carrito!"
   ]
  },
  {
   "cell_type": "markdown",
   "id": "mhIvmmkW414q",
   "metadata": {
    "id": "mhIvmmkW414q"
   },
   "source": [
    "# Introducción\n",
    "\n",
    "Instacart es una plataforma de entregas de comestibles donde la clientela puede registrar un pedido y hacer que se lo entreguen, similar a Uber Eats y Door Dash.\n",
    "El conjunto de datos que te hemos proporcionado tiene modificaciones del original. Redujimos el tamaño del conjunto para que tus cálculos se hicieran más rápido e introdujimos valores ausentes y duplicados. Tuvimos cuidado de conservar las distribuciones de los datos originales cuando hicimos los cambios.\n",
    "\n",
    "Debes completar tres pasos. Para cada uno de ellos, escribe una breve introducción que refleje con claridad cómo pretendes resolver cada paso, y escribe párrafos explicatorios que justifiquen tus decisiones al tiempo que avanzas en tu solución.  También escribe una conclusión que resuma tus hallazgos y elecciones.\n"
   ]
  },
  {
   "cell_type": "markdown",
   "id": "3MbyzpOQZ5Or",
   "metadata": {
    "id": "3MbyzpOQZ5Or"
   },
   "source": [
    "## Diccionario de datos\n",
    "\n",
    "Hay cinco tablas en el conjunto de datos, y tendrás que usarlas todas para hacer el preprocesamiento de datos y el análisis exploratorio de datos. A continuación se muestra un diccionario de datos que enumera las columnas de cada tabla y describe los datos que contienen.\n",
    "\n",
    "- `instacart_orders.csv`: cada fila corresponde a un pedido en la aplicación Instacart.\n",
    "    - `'order_id'`: número de ID que identifica de manera única cada pedido.\n",
    "    - `'user_id'`: número de ID que identifica de manera única la cuenta de cada cliente.\n",
    "    - `'order_number'`: el número de veces que este cliente ha hecho un pedido.\n",
    "    - `'order_dow'`: día de la semana en que se hizo el pedido (0 si es domingo).\n",
    "    - `'order_hour_of_day'`: hora del día en que se hizo el pedido.\n",
    "    - `'days_since_prior_order'`: número de días transcurridos desde que este cliente hizo su pedido anterior.\n",
    "- `products.csv`: cada fila corresponde a un producto único que pueden comprar los clientes.\n",
    "    - `'product_id'`: número ID que identifica de manera única cada producto.\n",
    "    - `'product_name'`: nombre del producto.\n",
    "    - `'aisle_id'`: número ID que identifica de manera única cada categoría de pasillo de víveres.\n",
    "    - `'department_id'`: número ID que identifica de manera única cada departamento de víveres.\n",
    "- `order_products.csv`: cada fila corresponde a un artículo pedido en un pedido.\n",
    "    - `'order_id'`: número de ID que identifica de manera única cada pedido.\n",
    "    - `'product_id'`: número ID que identifica de manera única cada producto.\n",
    "    - `'add_to_cart_order'`: el orden secuencial en el que se añadió cada artículo en el carrito.\n",
    "    - `'reordered'`: 0 si el cliente nunca ha pedido este producto antes, 1 si lo ha pedido.\n",
    "- `aisles.csv`\n",
    "    - `'aisle_id'`: número ID que identifica de manera única cada categoría de pasillo de víveres.\n",
    "    - `'aisle'`: nombre del pasillo.\n",
    "- `departments.csv`\n",
    "    - `'department_id'`: número ID que identifica de manera única cada departamento de víveres.\n",
    "    - `'department'`: nombre del departamento."
   ]
  },
  {
   "cell_type": "markdown",
   "id": "345eac30-e547-4a39-9d00-0defc70e6142",
   "metadata": {},
   "source": [
    "<div class=\"alert alert-block alert-success\">\n",
    "<b>Comentario del revisor</b> <a class=\"tocSkip\"></a>\n",
    "\n",
    "¡Hola! Excelente trabajo desarrollando la introducción y el diccionario de datos. Esto es crucial para cualquier proyecto, ya que establece una guía clara sobre los pasos a seguir. Tener estos elementos bien definidos desde el principio nos permite trabajar de manera más organizada y eficiente. En un futuro lo podrías complementar con una tabla de contenido.\n",
    "</div>"
   ]
  },
  {
   "cell_type": "markdown",
   "id": "n3Ha_cNSZ8lK",
   "metadata": {
    "id": "n3Ha_cNSZ8lK"
   },
   "source": [
    "# Paso 1. Descripción de los datos\n",
    "\n",
    "Lee los archivos de datos (`/datasets/instacart_orders.csv`, `/datasets/products.csv`, `/datasets/aisles.csv`, `/datasets/departments.csv` y `/datasets/order_products.csv`) con `pd.read_csv()` usando los parámetros adecuados para leer los datos correctamente. Verifica la información para cada DataFrame creado.\n"
   ]
  },
  {
   "cell_type": "markdown",
   "id": "OmlQPLlyaAfR",
   "metadata": {
    "id": "OmlQPLlyaAfR"
   },
   "source": [
    "## Plan de solución\n",
    "\n",
    "Escribe aquí tu plan de solución para el Paso 1. Descripción de los datos."
   ]
  },
  {
   "cell_type": "code",
   "execution_count": 1,
   "id": "fbf1adab",
   "metadata": {
    "id": "fbf1adab"
   },
   "outputs": [],
   "source": [
    "import pandas as pd\n",
    "import numpy as np\n",
    "from matplotlib import pyplot as plt"
   ]
  },
  {
   "cell_type": "code",
   "execution_count": 2,
   "id": "ad36396d",
   "metadata": {
    "id": "ad36396d"
   },
   "outputs": [],
   "source": [
    "df_instacart = pd.read_csv('/datasets/instacart_orders.csv', sep=';')\n",
    "df_products = pd.read_csv('/datasets/products.csv', sep=';')\n",
    "df_aisles = pd.read_csv('/datasets/aisles.csv', sep=';')\n",
    "df_dpms = pd.read_csv('/datasets/departments.csv', sep=';')\n",
    "df_order = pd.read_csv('/datasets/order_products.csv', sep=';')"
   ]
  },
  {
   "cell_type": "code",
   "execution_count": 3,
   "id": "ad6a1efa",
   "metadata": {
    "id": "ad6a1efa"
   },
   "outputs": [
    {
     "name": "stdout",
     "output_type": "stream",
     "text": [
      "<class 'pandas.core.frame.DataFrame'>\n",
      "RangeIndex: 478967 entries, 0 to 478966\n",
      "Data columns (total 6 columns):\n",
      " #   Column                  Non-Null Count   Dtype  \n",
      "---  ------                  --------------   -----  \n",
      " 0   order_id                478967 non-null  int64  \n",
      " 1   user_id                 478967 non-null  int64  \n",
      " 2   order_number            478967 non-null  int64  \n",
      " 3   order_dow               478967 non-null  int64  \n",
      " 4   order_hour_of_day       478967 non-null  int64  \n",
      " 5   days_since_prior_order  450148 non-null  float64\n",
      "dtypes: float64(1), int64(5)\n",
      "memory usage: 21.9 MB\n"
     ]
    }
   ],
   "source": [
    "df_instacart.info()"
   ]
  },
  {
   "cell_type": "code",
   "execution_count": 4,
   "id": "5130e05e",
   "metadata": {
    "id": "5130e05e"
   },
   "outputs": [
    {
     "name": "stdout",
     "output_type": "stream",
     "text": [
      "<class 'pandas.core.frame.DataFrame'>\n",
      "RangeIndex: 49694 entries, 0 to 49693\n",
      "Data columns (total 4 columns):\n",
      " #   Column         Non-Null Count  Dtype \n",
      "---  ------         --------------  ----- \n",
      " 0   product_id     49694 non-null  int64 \n",
      " 1   product_name   48436 non-null  object\n",
      " 2   aisle_id       49694 non-null  int64 \n",
      " 3   department_id  49694 non-null  int64 \n",
      "dtypes: int64(3), object(1)\n",
      "memory usage: 1.5+ MB\n"
     ]
    }
   ],
   "source": [
    "df_products.info()"
   ]
  },
  {
   "cell_type": "code",
   "execution_count": 5,
   "id": "d8370c05",
   "metadata": {
    "id": "d8370c05"
   },
   "outputs": [
    {
     "name": "stdout",
     "output_type": "stream",
     "text": [
      "<class 'pandas.core.frame.DataFrame'>\n",
      "RangeIndex: 134 entries, 0 to 133\n",
      "Data columns (total 2 columns):\n",
      " #   Column    Non-Null Count  Dtype \n",
      "---  ------    --------------  ----- \n",
      " 0   aisle_id  134 non-null    int64 \n",
      " 1   aisle     134 non-null    object\n",
      "dtypes: int64(1), object(1)\n",
      "memory usage: 2.2+ KB\n"
     ]
    }
   ],
   "source": [
    "df_aisles.info()"
   ]
  },
  {
   "cell_type": "code",
   "execution_count": 6,
   "id": "59e2090f",
   "metadata": {
    "id": "59e2090f"
   },
   "outputs": [
    {
     "name": "stdout",
     "output_type": "stream",
     "text": [
      "<class 'pandas.core.frame.DataFrame'>\n",
      "RangeIndex: 21 entries, 0 to 20\n",
      "Data columns (total 2 columns):\n",
      " #   Column         Non-Null Count  Dtype \n",
      "---  ------         --------------  ----- \n",
      " 0   department_id  21 non-null     int64 \n",
      " 1   department     21 non-null     object\n",
      "dtypes: int64(1), object(1)\n",
      "memory usage: 464.0+ bytes\n"
     ]
    }
   ],
   "source": [
    "df_dpms.info()"
   ]
  },
  {
   "cell_type": "code",
   "execution_count": 7,
   "id": "6fc81694",
   "metadata": {
    "id": "6fc81694"
   },
   "outputs": [
    {
     "name": "stdout",
     "output_type": "stream",
     "text": [
      "<class 'pandas.core.frame.DataFrame'>\n",
      "RangeIndex: 4545007 entries, 0 to 4545006\n",
      "Data columns (total 4 columns):\n",
      " #   Column             Non-Null Count    Dtype  \n",
      "---  ------             --------------    -----  \n",
      " 0   order_id           4545007 non-null  int64  \n",
      " 1   product_id         4545007 non-null  int64  \n",
      " 2   add_to_cart_order  4544171 non-null  float64\n",
      " 3   reordered          4545007 non-null  int64  \n",
      "dtypes: float64(1), int64(3)\n",
      "memory usage: 138.7 MB\n"
     ]
    }
   ],
   "source": [
    "df_order.info(show_counts=True)"
   ]
  },
  {
   "cell_type": "markdown",
   "id": "81f6ebce-ef4f-4673-9058-a9405c24d833",
   "metadata": {},
   "source": [
    "<div class=\"alert alert-block alert-success\">\n",
    "<b>Comentario del revisor</b> <a class=\"tocSkip\"></a>\n",
    "\n",
    "Muy buen trabajo con la carga de la información\n",
    "    "
   ]
  },
  {
   "cell_type": "markdown",
   "id": "t75BD19oaR5f",
   "metadata": {
    "id": "t75BD19oaR5f"
   },
   "source": [
    "## Conclusiones\n",
    "\n",
    "Escribe aquí tus conclusiones intermedias sobre el Paso 1. Descripción de los datos.\n",
    "- Preliminarmente únicamente se tienen datos ausentes en 'df_instacart en la columna 'days_since_prior_order' y en 'df_order' en la columna 'add_to_cart_order'.\n",
    "- La mayoría de los tipos de datos en las columnas de cada DF son números enteros para aquellas que sirven de ID y las descriptivas son de texto (object)."
   ]
  },
  {
   "cell_type": "markdown",
   "id": "8RJHqxVmaVsF",
   "metadata": {
    "id": "8RJHqxVmaVsF"
   },
   "source": [
    "# Paso 2. Preprocesamiento de los datos\n",
    "\n",
    "Preprocesa los datos de la siguiente manera:\n",
    "\n",
    "- Verifica y corrige los tipos de datos (por ejemplo, asegúrate de que las columnas de ID sean números enteros).\n",
    "- Identifica y completa los valores ausentes.\n",
    "- Identifica y elimina los valores duplicados.\n",
    "\n",
    "Asegúrate de explicar qué tipos de valores ausentes y duplicados encontraste, cómo los completaste o eliminaste y por qué usaste esos métodos. ¿Por qué crees que estos valores ausentes y duplicados pueden haber estado presentes en el conjunto de datos?"
   ]
  },
  {
   "cell_type": "markdown",
   "id": "p6poABZQaZYb",
   "metadata": {
    "id": "p6poABZQaZYb"
   },
   "source": [
    "## Plan de solución\n",
    "\n",
    "Escribe aquí tu plan para el Paso 2. Preprocesamiento de los datos."
   ]
  },
  {
   "cell_type": "markdown",
   "id": "07357848-dc64-4156-9cc3-01ff4365226d",
   "metadata": {
    "id": "07357848-dc64-4156-9cc3-01ff4365226d"
   },
   "source": [
    "## Encuentra y elimina los valores duplicados (y describe cómo tomaste tus decisiones)."
   ]
  },
  {
   "cell_type": "markdown",
   "id": "f179f0a9",
   "metadata": {
    "id": "f179f0a9"
   },
   "source": [
    "### `orders` data frame"
   ]
  },
  {
   "cell_type": "code",
   "execution_count": 8,
   "id": "b99297a5-405a-463d-8535-9adc3da4ad74",
   "metadata": {
    "id": "b99297a5-405a-463d-8535-9adc3da4ad74"
   },
   "outputs": [
    {
     "name": "stdout",
     "output_type": "stream",
     "text": [
      "Número de pedidos duplicados: 15\n",
      "\n",
      "Filas eliminadas (duplicados):\n",
      "         order_id  user_id  order_number  order_dow  order_hour_of_day  \\\n",
      "30371    1918001   188546            14          3                  2   \n",
      "99462     794638    50898            24          3                  2   \n",
      "119251    408114    68324             4          3                  2   \n",
      "142258   2845099    31189            11          3                  2   \n",
      "145574    794638    50898            24          3                  2   \n",
      "164581   1112182   202304            84          3                  2   \n",
      "200059   1782114   106752             1          3                  2   \n",
      "204042   2125197    14050            48          3                  2   \n",
      "215294   2160484   107525            16          3                  2   \n",
      "223105   2160484   107525            16          3                  2   \n",
      "230807   1918001   188546            14          3                  2   \n",
      "242618   1021560    53767             3          3                  2   \n",
      "250626    467134    63189            21          3                  2   \n",
      "257934   1919531   191501            32          3                  2   \n",
      "259636   2282673    86751            49          3                  2   \n",
      "266232   1782114   106752             1          3                  2   \n",
      "273805   1112182   202304            84          3                  2   \n",
      "284038   2845099    31189            11          3                  2   \n",
      "311713   1021560    53767             3          3                  2   \n",
      "314427   1286742   183220            48          3                  2   \n",
      "321100    408114    68324             4          3                  2   \n",
      "323900   1919531   191501            32          3                  2   \n",
      "324868   2232988    82565             1          3                  2   \n",
      "345917   2232988    82565             1          3                  2   \n",
      "354993    391768    57671            19          3                  2   \n",
      "371905    391768    57671            19          3                  2   \n",
      "394347    467134    63189            21          3                  2   \n",
      "411408   1286742   183220            48          3                  2   \n",
      "415163   2282673    86751            49          3                  2   \n",
      "441599   2125197    14050            48          3                  2   \n",
      "\n",
      "        days_since_prior_order  \n",
      "30371                     16.0  \n",
      "99462                      2.0  \n",
      "119251                    18.0  \n",
      "142258                     7.0  \n",
      "145574                     2.0  \n",
      "164581                     6.0  \n",
      "200059                     NaN  \n",
      "204042                     3.0  \n",
      "215294                    30.0  \n",
      "223105                    30.0  \n",
      "230807                    16.0  \n",
      "242618                     9.0  \n",
      "250626                     2.0  \n",
      "257934                     7.0  \n",
      "259636                     2.0  \n",
      "266232                     NaN  \n",
      "273805                     6.0  \n",
      "284038                     7.0  \n",
      "311713                     9.0  \n",
      "314427                     4.0  \n",
      "321100                    18.0  \n",
      "323900                     7.0  \n",
      "324868                     NaN  \n",
      "345917                     NaN  \n",
      "354993                    10.0  \n",
      "371905                    10.0  \n",
      "394347                     2.0  \n",
      "411408                     4.0  \n",
      "415163                     2.0  \n",
      "441599                     3.0  \n"
     ]
    }
   ],
   "source": [
    "# Revisa si hay pedidos duplicados\n",
    "print(\"Número de pedidos duplicados:\", df_instacart.duplicated().sum())\n",
    "\n",
    "# Eliminar duplicados para consultar\n",
    "df_sin_duplicados = df_instacart.drop_duplicates(subset='order_id', keep='first')\n",
    "\n",
    "# Mostrar las filas eliminadas (duplicados)\n",
    "print(\"\\nFilas eliminadas (duplicados):\\n\", df_instacart[df_instacart.duplicated(subset='order_id', keep=False)])"
   ]
  },
  {
   "cell_type": "markdown",
   "id": "PEkwUX_gvt5A",
   "metadata": {
    "id": "PEkwUX_gvt5A"
   },
   "source": [
    "¿Tienes líneas duplicadas? Si sí, ¿qué tienen en común?\n",
    "\n",
    "Se tienen 15 líneas duplicadas. Lo que tienen en común es que todas fueron generadas en días miercoles (3) y a la misma hora (02:00 hrs)."
   ]
  },
  {
   "cell_type": "code",
   "execution_count": 9,
   "id": "0d44de5d",
   "metadata": {
    "id": "0d44de5d"
   },
   "outputs": [
    {
     "name": "stdout",
     "output_type": "stream",
     "text": [
      "        order_id  user_id  order_number  order_dow  order_hour_of_day  \\\n",
      "4838     2766110   162084            41          3                  2   \n",
      "5156     2190225   138285            18          3                  2   \n",
      "15506     553049    58599            13          3                  2   \n",
      "18420     382357   120200            19          3                  2   \n",
      "24691     690242    77357             2          3                  2   \n",
      "...          ...      ...           ...        ...                ...   \n",
      "457013   3384021    14881             6          3                  2   \n",
      "458816    910166   164782            18          3                  2   \n",
      "459635   1680532   106435             6          3                  2   \n",
      "468324    222962    54979            59          3                  2   \n",
      "477526   2592344    46860            38          3                  2   \n",
      "\n",
      "        days_since_prior_order  \n",
      "4838                      16.0  \n",
      "5156                      11.0  \n",
      "15506                      7.0  \n",
      "18420                     11.0  \n",
      "24691                      9.0  \n",
      "...                        ...  \n",
      "457013                    30.0  \n",
      "458816                     4.0  \n",
      "459635                    21.0  \n",
      "468324                     3.0  \n",
      "477526                     3.0  \n",
      "\n",
      "[121 rows x 6 columns]\n"
     ]
    }
   ],
   "source": [
    "# Basándote en tus hallazgos,\n",
    "# Verifica todos los pedidos que se hicieron el miércoles a las 2:00 a.m.\n",
    "print(df_instacart.query(\"order_dow == 3 and order_hour_of_day == 2\"))"
   ]
  },
  {
   "cell_type": "markdown",
   "id": "vu2OWyoqwOx5",
   "metadata": {
    "id": "vu2OWyoqwOx5"
   },
   "source": [
    "¿Qué sugiere este resultado?\n",
    "\n",
    "El resultado sugiere que son duplicados explicitos (completamente identicos), por lo que es recomendable eliminarlos y únicamente quedarse con el primer registro de cada uno de ellos "
   ]
  },
  {
   "cell_type": "code",
   "execution_count": 10,
   "id": "480563c7",
   "metadata": {
    "id": "480563c7"
   },
   "outputs": [],
   "source": [
    "# Elimina los pedidos duplicados\n",
    "df_instacart = df_instacart.drop_duplicates(subset='order_id', keep='first')"
   ]
  },
  {
   "cell_type": "code",
   "execution_count": 11,
   "id": "0b2396a2",
   "metadata": {
    "id": "0b2396a2"
   },
   "outputs": [
    {
     "name": "stdout",
     "output_type": "stream",
     "text": [
      "Número de pedidos duplicados: 0\n"
     ]
    }
   ],
   "source": [
    "# Vuelve a verificar si hay filas duplicadas\n",
    "print(\"Número de pedidos duplicados:\", df_instacart.duplicated().sum())"
   ]
  },
  {
   "cell_type": "code",
   "execution_count": 12,
   "id": "f6113ef1",
   "metadata": {
    "id": "f6113ef1"
   },
   "outputs": [
    {
     "name": "stdout",
     "output_type": "stream",
     "text": [
      "Número de IDs de pedidos duplicados: 0\n"
     ]
    }
   ],
   "source": [
    "# Vuelve a verificar únicamente si hay IDs duplicados de pedidos\n",
    "print(\"Número de IDs de pedidos duplicados:\", df_instacart.duplicated(subset='order_id').sum())"
   ]
  },
  {
   "cell_type": "markdown",
   "id": "5e8905ae",
   "metadata": {
    "id": "5e8905ae"
   },
   "source": [
    "Describe brevemente tus hallazgos y lo que hiciste con ellos\n",
    "\n",
    "- Se encontraron 15 registros duplicados en su totalidad por lo que se eliminaron asegurando no perder información del DF."
   ]
  },
  {
   "cell_type": "markdown",
   "id": "a692d2ca-5186-4911-b41f-52928f758a9e",
   "metadata": {},
   "source": [
    "<div class=\"alert alert-block alert-success\">\n",
    "<b>Comentario del revisor</b> <a class=\"tocSkip\"></a>\n",
    "\n",
    "Gran trabajo con el análisis de duplicados"
   ]
  },
  {
   "cell_type": "markdown",
   "id": "45e6bc46",
   "metadata": {
    "id": "45e6bc46"
   },
   "source": [
    "### `products` data frame"
   ]
  },
  {
   "cell_type": "code",
   "execution_count": 13,
   "id": "5f526b5b-8175-46fa-a0fd-441767d50e64",
   "metadata": {
    "id": "5f526b5b-8175-46fa-a0fd-441767d50e64"
   },
   "outputs": [
    {
     "name": "stdout",
     "output_type": "stream",
     "text": [
      "Empty DataFrame\n",
      "Columns: [product_id, product_name, aisle_id, department_id]\n",
      "Index: []\n"
     ]
    }
   ],
   "source": [
    "# Verifica si hay filas totalmente duplicadas\n",
    "print(df_products[(~df_products['product_name'].isna()) & df_products['product_name'].duplicated()])"
   ]
  },
  {
   "cell_type": "code",
   "execution_count": 14,
   "id": "88daa4f4",
   "metadata": {
    "id": "88daa4f4"
   },
   "outputs": [
    {
     "name": "stdout",
     "output_type": "stream",
     "text": [
      "Número de IDs de productos duplicados: 0\n"
     ]
    }
   ],
   "source": [
    "# Revisa únicamente si hay ID de productos duplicados\n",
    "print(\"Número de IDs de productos duplicados:\", df_products['product_id'].duplicated().sum())"
   ]
  },
  {
   "cell_type": "code",
   "execution_count": 15,
   "id": "c773f0bf",
   "metadata": {
    "id": "c773f0bf"
   },
   "outputs": [
    {
     "name": "stdout",
     "output_type": "stream",
     "text": [
      "Número de nombres de productos duplicados: 1361\n"
     ]
    }
   ],
   "source": [
    "# Revisa únicamente si hay nombres duplicados de productos (convierte los nombres a letras mayúsculas para compararlos mejor)\n",
    "df_products['product_name'] = df_products['product_name'].str.upper()\n",
    "print(\"Número de nombres de productos duplicados:\", df_products['product_name'].duplicated().sum())"
   ]
  },
  {
   "cell_type": "code",
   "execution_count": 16,
   "id": "01efd02e",
   "metadata": {
    "id": "01efd02e"
   },
   "outputs": [
    {
     "name": "stdout",
     "output_type": "stream",
     "text": [
      "Número de nombres de productos no faltantes duplicados: 0\n",
      "\n",
      "Número de valores ausentes: 1258\n"
     ]
    }
   ],
   "source": [
    "# Revisa si hay nombres duplicados de productos no faltantes\n",
    "print(\"Número de nombres de productos no faltantes duplicados:\", df_products[df_products['product_name'] != 'null'].duplicated().sum())\n",
    "#revisa cantidad de valores ausentes en la columna 'product_name'\n",
    "print(\"\\nNúmero de valores ausentes:\", df_products['product_name'].isnull().sum())"
   ]
  },
  {
   "cell_type": "code",
   "execution_count": 17,
   "id": "5b17cd05-ce81-4004-8978-020864b8805a",
   "metadata": {},
   "outputs": [
    {
     "data": {
      "text/html": [
       "<div>\n",
       "<style scoped>\n",
       "    .dataframe tbody tr th:only-of-type {\n",
       "        vertical-align: middle;\n",
       "    }\n",
       "\n",
       "    .dataframe tbody tr th {\n",
       "        vertical-align: top;\n",
       "    }\n",
       "\n",
       "    .dataframe thead th {\n",
       "        text-align: right;\n",
       "    }\n",
       "</style>\n",
       "<table border=\"1\" class=\"dataframe\">\n",
       "  <thead>\n",
       "    <tr style=\"text-align: right;\">\n",
       "      <th></th>\n",
       "      <th>product_id</th>\n",
       "      <th>product_name</th>\n",
       "      <th>aisle_id</th>\n",
       "      <th>department_id</th>\n",
       "    </tr>\n",
       "  </thead>\n",
       "  <tbody>\n",
       "    <tr>\n",
       "      <th>2058</th>\n",
       "      <td>2059</td>\n",
       "      <td>BIOTIN 1000 MCG</td>\n",
       "      <td>47</td>\n",
       "      <td>11</td>\n",
       "    </tr>\n",
       "    <tr>\n",
       "      <th>5455</th>\n",
       "      <td>5456</td>\n",
       "      <td>GREEN TEA WITH GINSENG AND HONEY</td>\n",
       "      <td>96</td>\n",
       "      <td>20</td>\n",
       "    </tr>\n",
       "    <tr>\n",
       "      <th>5558</th>\n",
       "      <td>5559</td>\n",
       "      <td>CREAM OF MUSHROOM SOUP</td>\n",
       "      <td>69</td>\n",
       "      <td>15</td>\n",
       "    </tr>\n",
       "    <tr>\n",
       "      <th>7558</th>\n",
       "      <td>7559</td>\n",
       "      <td>CINNAMON ROLLS WITH ICING</td>\n",
       "      <td>105</td>\n",
       "      <td>13</td>\n",
       "    </tr>\n",
       "    <tr>\n",
       "      <th>9037</th>\n",
       "      <td>9038</td>\n",
       "      <td>AMERICAN CHEESE SLICES</td>\n",
       "      <td>21</td>\n",
       "      <td>16</td>\n",
       "    </tr>\n",
       "    <tr>\n",
       "      <th>...</th>\n",
       "      <td>...</td>\n",
       "      <td>...</td>\n",
       "      <td>...</td>\n",
       "      <td>...</td>\n",
       "    </tr>\n",
       "    <tr>\n",
       "      <th>49689</th>\n",
       "      <td>49690</td>\n",
       "      <td>HIGH PERFORMANCE ENERGY DRINK</td>\n",
       "      <td>64</td>\n",
       "      <td>7</td>\n",
       "    </tr>\n",
       "    <tr>\n",
       "      <th>49690</th>\n",
       "      <td>49691</td>\n",
       "      <td>ORIGINAL PANCAKE &amp; WAFFLE MIX</td>\n",
       "      <td>130</td>\n",
       "      <td>14</td>\n",
       "    </tr>\n",
       "    <tr>\n",
       "      <th>49691</th>\n",
       "      <td>49692</td>\n",
       "      <td>ORGANIC INSTANT OATMEAL LIGHT MAPLE BROWN SUGAR</td>\n",
       "      <td>130</td>\n",
       "      <td>14</td>\n",
       "    </tr>\n",
       "    <tr>\n",
       "      <th>49692</th>\n",
       "      <td>49693</td>\n",
       "      <td>SPRING WATER BODY WASH</td>\n",
       "      <td>127</td>\n",
       "      <td>11</td>\n",
       "    </tr>\n",
       "    <tr>\n",
       "      <th>49693</th>\n",
       "      <td>49694</td>\n",
       "      <td>BURRITO- STEAK &amp; CHEESE</td>\n",
       "      <td>38</td>\n",
       "      <td>1</td>\n",
       "    </tr>\n",
       "  </tbody>\n",
       "</table>\n",
       "<p>104 rows × 4 columns</p>\n",
       "</div>"
      ],
      "text/plain": [
       "       product_id                                     product_name  aisle_id  \\\n",
       "2058         2059                                  BIOTIN 1000 MCG        47   \n",
       "5455         5456                 GREEN TEA WITH GINSENG AND HONEY        96   \n",
       "5558         5559                           CREAM OF MUSHROOM SOUP        69   \n",
       "7558         7559                        CINNAMON ROLLS WITH ICING       105   \n",
       "9037         9038                           AMERICAN CHEESE SLICES        21   \n",
       "...           ...                                              ...       ...   \n",
       "49689       49690                    HIGH PERFORMANCE ENERGY DRINK        64   \n",
       "49690       49691                    ORIGINAL PANCAKE & WAFFLE MIX       130   \n",
       "49691       49692  ORGANIC INSTANT OATMEAL LIGHT MAPLE BROWN SUGAR       130   \n",
       "49692       49693                           SPRING WATER BODY WASH       127   \n",
       "49693       49694                          BURRITO- STEAK & CHEESE        38   \n",
       "\n",
       "       department_id  \n",
       "2058              11  \n",
       "5455              20  \n",
       "5558              15  \n",
       "7558              13  \n",
       "9037              16  \n",
       "...              ...  \n",
       "49689              7  \n",
       "49690             14  \n",
       "49691             14  \n",
       "49692             11  \n",
       "49693              1  \n",
       "\n",
       "[104 rows x 4 columns]"
      ]
     },
     "execution_count": 17,
     "metadata": {},
     "output_type": "execute_result"
    }
   ],
   "source": [
    "df_products[(~df_products['product_name'].str.upper().isna()) & df_products['product_name'].str.upper().duplicated()]"
   ]
  },
  {
   "cell_type": "markdown",
   "id": "014a280d-08df-4421-b682-5739882cd943",
   "metadata": {},
   "source": [
    "<div class=\"alert alert-block alert-danger\">\n",
    "<b>Comentario del revisor</b> <a class=\"tocSkip\"></a>\n",
    "\n",
    "Gran trabajo, solamente te dejo arriba la línea que debemos correr para identificar los 104 registros duplicados. Solamente dejame abajo si tienes alguna duda sobre esto"
   ]
  },
  {
   "cell_type": "markdown",
   "id": "945d9a93-8569-41d4-875a-a9e94f992378",
   "metadata": {},
   "source": [
    "<div class=\"alert alert-block alert-danger\">\n",
    "<b>Comentario del revisor</b> <a class=\"tocSkip\"></a>\n",
    "\n",
    " Solamente la verificación de duplicados te recomiendo hacerla sobre la varialble de nombre del producto. Para esto te puedes guiar del siguiente ejemplo:\n",
    "    \n",
    "    products[(~products['product_name'].isna()) & products['product_name'].duplicated()]\n",
    "    \n",
    "</div>"
   ]
  },
  {
   "cell_type": "markdown",
   "id": "c3e6ef32-2301-4f2d-a30e-bb7820a3af4f",
   "metadata": {},
   "source": [
    "<div class=\"alert alert-block alert-success\">\n",
    "<b>Comentario del revisor</b> <a class=\"tocSkip\"></a>\n",
    "\n",
    "Gran trabajo con el ajuste!\n",
    "</div>"
   ]
  },
  {
   "cell_type": "markdown",
   "id": "1563e0a7-3ced-43f3-8664-0a6e8b8b017d",
   "metadata": {
    "id": "9da8d293"
   },
   "source": [
    "### Hola Tonatiuh, creo que no estoy entendiendo en que parte del ejercicio debe ir la linea de código que me comentas. En ningun momento me dio 104 valores duplicados, si pude ver que a ti se te daba 104 pero al darle nuevamente correr el kernel se modificó a 1361."
   ]
  },
  {
   "cell_type": "markdown",
   "id": "9da8d293",
   "metadata": {
    "id": "9da8d293"
   },
   "source": [
    "Describe brevemente tus hallazgos y lo que hiciste con ellos.\n",
    "\n",
    "- Se encontró que la columna 'product_name' cuenta con valores ausentes. De momento únicamente se revisó la cantidad de valores ausentes, posteriormente se determinará como sustituirlos o si deberán ser eliminados del DF."
   ]
  },
  {
   "cell_type": "markdown",
   "id": "60f30db1",
   "metadata": {
    "id": "60f30db1"
   },
   "source": [
    "### `departments` data frame"
   ]
  },
  {
   "cell_type": "code",
   "execution_count": 18,
   "id": "fb410ad4-0fbf-4b80-bb09-23fdea79afe3",
   "metadata": {
    "id": "fb410ad4-0fbf-4b80-bb09-23fdea79afe3"
   },
   "outputs": [
    {
     "name": "stdout",
     "output_type": "stream",
     "text": [
      "Número de filas totalmente duplicadas: 0\n"
     ]
    }
   ],
   "source": [
    "# Revisa si hay filas totalmente duplicadas\n",
    "print(\"Número de filas totalmente duplicadas:\", df_dpms.duplicated().sum())"
   ]
  },
  {
   "cell_type": "code",
   "execution_count": 19,
   "id": "332b12bb",
   "metadata": {
    "id": "332b12bb"
   },
   "outputs": [
    {
     "name": "stdout",
     "output_type": "stream",
     "text": [
      "Número de IDs duplicados: 0\n"
     ]
    }
   ],
   "source": [
    "# Revisa únicamente si hay IDs duplicadas de departamentos\n",
    "print(\"Número de IDs duplicados:\", df_dpms['department_id'].duplicated().sum())"
   ]
  },
  {
   "cell_type": "markdown",
   "id": "bd30d78e",
   "metadata": {
    "id": "bd30d78e"
   },
   "source": [
    "Describe brevemente tus hallazgos y lo que hiciste con ellos.\n",
    "\n",
    "- No se encontraron valores duplicados."
   ]
  },
  {
   "cell_type": "markdown",
   "id": "889349c1",
   "metadata": {
    "id": "889349c1"
   },
   "source": [
    "### `aisles` data frame"
   ]
  },
  {
   "cell_type": "code",
   "execution_count": 20,
   "id": "9da89fb9-4679-40f5-ad0d-c34df753a3f8",
   "metadata": {
    "id": "9da89fb9-4679-40f5-ad0d-c34df753a3f8"
   },
   "outputs": [
    {
     "name": "stdout",
     "output_type": "stream",
     "text": [
      "Número de filas totalmente duplicadas: 0\n"
     ]
    }
   ],
   "source": [
    "# Revisa si hay filas totalmente duplicadas\n",
    "print(\"Número de filas totalmente duplicadas:\", df_aisles.duplicated().sum())"
   ]
  },
  {
   "cell_type": "code",
   "execution_count": 21,
   "id": "da7c2822",
   "metadata": {
    "id": "da7c2822"
   },
   "outputs": [
    {
     "name": "stdout",
     "output_type": "stream",
     "text": [
      "Número de IDs duplicados: 0\n"
     ]
    }
   ],
   "source": [
    "# Revisa únicamente si hay IDs duplicadas de pasillos\n",
    "print(\"Número de IDs duplicados:\", df_aisles['aisle_id'].duplicated().sum())"
   ]
  },
  {
   "cell_type": "markdown",
   "id": "ac63826f",
   "metadata": {
    "id": "ac63826f"
   },
   "source": [
    "Describe brevemente tus hallazgos y lo que hiciste con ellos.\n",
    "\n",
    "- No se encontraron valores duplicados."
   ]
  },
  {
   "cell_type": "markdown",
   "id": "274cd06a",
   "metadata": {
    "id": "274cd06a"
   },
   "source": [
    "### `order_products` data frame"
   ]
  },
  {
   "cell_type": "code",
   "execution_count": 22,
   "id": "52326689-84a8-4b8f-a881-7c68780f62c9",
   "metadata": {
    "id": "52326689-84a8-4b8f-a881-7c68780f62c9"
   },
   "outputs": [
    {
     "name": "stdout",
     "output_type": "stream",
     "text": [
      "Número de filas totalmente duplicadas: 0\n"
     ]
    }
   ],
   "source": [
    "# Revisa si hay filas totalmente duplicadas\n",
    "print(\"Número de filas totalmente duplicadas:\", df_order.duplicated().sum())"
   ]
  },
  {
   "cell_type": "code",
   "execution_count": 23,
   "id": "7b861391",
   "metadata": {
    "id": "7b861391"
   },
   "outputs": [
    {
     "name": "stdout",
     "output_type": "stream",
     "text": [
      "Número de IDs de ordenes duplicados: 4094961\n",
      "\n",
      "Número de IDs de producto duplicados: 4499434\n",
      "\n",
      "Número de valores ausentes en el DF:\n",
      " order_id               0\n",
      "product_id             0\n",
      "add_to_cart_order    836\n",
      "reordered              0\n",
      "dtype: int64\n"
     ]
    }
   ],
   "source": [
    "# Vuelve a verificar si hay cualquier otro duplicado engañoso\n",
    "\n",
    "print(\"Número de IDs de ordenes duplicados:\", df_order['order_id'].duplicated().sum()) \n",
    "print(\"\\nNúmero de IDs de producto duplicados:\", df_order['product_id'].duplicated().sum())\n",
    "print(\"\\nNúmero de valores ausentes en el DF:\\n\", df_order.isna().sum())"
   ]
  },
  {
   "cell_type": "markdown",
   "id": "0b890492",
   "metadata": {
    "id": "0b890492"
   },
   "source": [
    "Describe brevemente tus hallazgos y lo que hiciste con ellos.\n",
    "\n",
    "- Se encontró una alta cantidad de valores duplicados, sin embargo, por el tipo de información que maneja este DF no se deben considerar como duplicados ya que es un desgloce de los artículos pedidos por cada pedido y los IDs de las ordenes se repiten según la cantidad de artículos que contenga dicho pedido.\n",
    "\n",
    "- De igual manera, se logró observar que la columna 'add_to_cart_order' cuenta con valores ausentes."
   ]
  },
  {
   "cell_type": "markdown",
   "id": "1e46de76",
   "metadata": {
    "id": "1e46de76"
   },
   "source": [
    "## Encuentra y elimina los valores ausentes\n",
    "\n",
    "Al trabajar con valores duplicados, pudimos observar que también nos falta investigar valores ausentes:\n",
    "\n",
    "* La columna `'product_name'` de la tabla products.\n",
    "* La columna `'days_since_prior_order'` de la tabla orders.\n",
    "* La columna `'add_to_cart_order'` de la tabla order_productos."
   ]
  },
  {
   "cell_type": "markdown",
   "id": "c0aebd78",
   "metadata": {
    "id": "c0aebd78"
   },
   "source": [
    "### `products` data frame"
   ]
  },
  {
   "cell_type": "code",
   "execution_count": 24,
   "id": "fe4a8b0f",
   "metadata": {
    "id": "fe4a8b0f"
   },
   "outputs": [
    {
     "name": "stdout",
     "output_type": "stream",
     "text": [
      "       product_id product_name  aisle_id  department_id\n",
      "37             38          NaN       100             21\n",
      "71             72          NaN       100             21\n",
      "109           110          NaN       100             21\n",
      "296           297          NaN       100             21\n",
      "416           417          NaN       100             21\n",
      "...           ...          ...       ...            ...\n",
      "49552       49553          NaN       100             21\n",
      "49574       49575          NaN       100             21\n",
      "49640       49641          NaN       100             21\n",
      "49663       49664          NaN       100             21\n",
      "49668       49669          NaN       100             21\n",
      "\n",
      "[1258 rows x 4 columns]\n"
     ]
    }
   ],
   "source": [
    "# Encuentra los valores ausentes en la columna 'product_name'\n",
    "products_aus = df_products[df_products['product_name'].isna()]\n",
    "print(products_aus)"
   ]
  },
  {
   "cell_type": "markdown",
   "id": "-A6x1AbJhjkp",
   "metadata": {
    "id": "-A6x1AbJhjkp"
   },
   "source": [
    "Describe brevemente cuáles son tus hallazgos.\n",
    "\n",
    "- Los valores ausentes de la columna 'product_name' parecen tener en común el valor de 'aisle_id' y el de 'department_id'."
   ]
  },
  {
   "cell_type": "code",
   "execution_count": 25,
   "id": "e96167bc",
   "metadata": {
    "id": "e96167bc"
   },
   "outputs": [
    {
     "name": "stdout",
     "output_type": "stream",
     "text": [
      "\n",
      "Valores únicos de aisle_id:  [100]\n"
     ]
    }
   ],
   "source": [
    "#  ¿Todos los nombres de productos ausentes están relacionados con el pasillo con ID 100?\n",
    "print(\"\\nValores únicos de aisle_id: \", products_aus['aisle_id'].unique())\n"
   ]
  },
  {
   "cell_type": "markdown",
   "id": "WRpIfXRphpSL",
   "metadata": {
    "id": "WRpIfXRphpSL"
   },
   "source": [
    "Describe brevemente cuáles son tus hallazgos.\n",
    "\n",
    "- Todos los valores si coinciden con el mismo ID de pasillo."
   ]
  },
  {
   "cell_type": "code",
   "execution_count": 26,
   "id": "8fd0a541",
   "metadata": {
    "id": "8fd0a541"
   },
   "outputs": [
    {
     "name": "stdout",
     "output_type": "stream",
     "text": [
      "\n",
      "Valores únicos de department_id:  [21]\n"
     ]
    }
   ],
   "source": [
    "# ¿Todos los nombres de productos ausentes están relacionados con el departamento con ID 21?\n",
    "print(\"\\nValores únicos de department_id: \", products_aus['department_id'].unique())"
   ]
  },
  {
   "cell_type": "markdown",
   "id": "qDpdYn1Fht_I",
   "metadata": {
    "id": "qDpdYn1Fht_I"
   },
   "source": [
    "Describe brevemente cuáles son tus hallazgos.\n",
    "\n",
    "- Todos los valores si coinciden con el mismo ID de departamento"
   ]
  },
  {
   "cell_type": "code",
   "execution_count": 27,
   "id": "325c3464",
   "metadata": {
    "id": "325c3464"
   },
   "outputs": [
    {
     "name": "stdout",
     "output_type": "stream",
     "text": [
      "    aisle_id    aisle\n",
      "99       100  missing\n",
      "\n",
      "     department_id department\n",
      "20             21    missing\n"
     ]
    }
   ],
   "source": [
    "# Usa las tablas department y aisle para revisar los datos del pasillo con ID 100 y el departamento con ID 21.\n",
    "print(df_aisles[df_aisles['aisle_id'] == 100])\n",
    "print(\"\\n\", df_dpms[df_dpms['department_id'] == 21])"
   ]
  },
  {
   "cell_type": "markdown",
   "id": "nqhSTUPhhvEJ",
   "metadata": {
    "id": "nqhSTUPhhvEJ"
   },
   "source": [
    "Describe brevemente cuáles son tus hallazgos."
   ]
  },
  {
   "cell_type": "code",
   "execution_count": 28,
   "id": "6b295120",
   "metadata": {
    "id": "6b295120"
   },
   "outputs": [
    {
     "name": "stdout",
     "output_type": "stream",
     "text": [
      "\n",
      "Número de valores ausentes:\n",
      " product_id       0\n",
      "product_name     0\n",
      "aisle_id         0\n",
      "department_id    0\n",
      "dtype: int64\n"
     ]
    }
   ],
   "source": [
    "# Completa los nombres de productos ausentes con 'Unknown'\n",
    "df_products['product_name'] = df_products['product_name'].fillna('Unknown')\n",
    "#Verifica que ya no existen valores ausentes\n",
    "print(\"\\nNúmero de valores ausentes:\\n\", df_products.isna().sum())"
   ]
  },
  {
   "cell_type": "markdown",
   "id": "fc70e5ad",
   "metadata": {
    "id": "fc70e5ad"
   },
   "source": [
    "Describe brevemente tus hallazgos y lo que hiciste con ellos.\n",
    "\n",
    "- Los valores ausentes en los nombres de los productos se debían a que en los DF de departamentos y pasillos se encontraban datos perdidos, lo que terminó por repercutir al nombre de los productos, tal parece que no se concluyó de registrar bien ese grupo de información.\n",
    "\n",
    "- Los valores ausentes en nombres de productos fueron sustituidos por \"Unknown\"."
   ]
  },
  {
   "cell_type": "markdown",
   "id": "3ff00c5b-303b-4c7c-815f-96d803c2e0c7",
   "metadata": {},
   "source": [
    "\n",
    "<div class=\"alert alert-block alert-success\">\n",
    "<b>Comentario del revisor</b> <a class=\"tocSkip\"></a>\n",
    "\n",
    "Muy buen trabajo!! Desarrollaste de manera excelente el análisis de valores faltantes y los llenaste con \"unknown\".\n",
    "    "
   ]
  },
  {
   "cell_type": "markdown",
   "id": "7eb45c86",
   "metadata": {
    "id": "7eb45c86"
   },
   "source": [
    "### `orders` data frame"
   ]
  },
  {
   "cell_type": "code",
   "execution_count": 29,
   "id": "93e41d96",
   "metadata": {
    "id": "93e41d96"
   },
   "outputs": [
    {
     "name": "stdout",
     "output_type": "stream",
     "text": [
      "        order_id  user_id  order_number  order_dow  order_hour_of_day  \\\n",
      "28        133707   182261             1          3                 10   \n",
      "96        787445    25685             1          6                 18   \n",
      "100       294410   111449             1          0                 19   \n",
      "103      2869915   123958             1          4                 16   \n",
      "104      2521921    42286             1          3                 18   \n",
      "...          ...      ...           ...        ...                ...   \n",
      "478895   2589657   205028             1          0                 16   \n",
      "478896   2222353   141211             1          2                 13   \n",
      "478922   2272807   204154             1          1                 15   \n",
      "478926   2499542    68810             1          4                 19   \n",
      "478945   1387033    22496             1          5                 14   \n",
      "\n",
      "        days_since_prior_order  \n",
      "28                         NaN  \n",
      "96                         NaN  \n",
      "100                        NaN  \n",
      "103                        NaN  \n",
      "104                        NaN  \n",
      "...                        ...  \n",
      "478895                     NaN  \n",
      "478896                     NaN  \n",
      "478922                     NaN  \n",
      "478926                     NaN  \n",
      "478945                     NaN  \n",
      "\n",
      "[28817 rows x 6 columns]\n"
     ]
    }
   ],
   "source": [
    "# Encuentra los valores ausentes\n",
    "instacart_aus = df_instacart[df_instacart['days_since_prior_order'].isna()]\n",
    "print(instacart_aus)"
   ]
  },
  {
   "cell_type": "code",
   "execution_count": 30,
   "id": "166e5a86",
   "metadata": {
    "id": "166e5a86"
   },
   "outputs": [
    {
     "name": "stdout",
     "output_type": "stream",
     "text": [
      "\n",
      "Valores únicos de order_number:  [1]\n"
     ]
    }
   ],
   "source": [
    "# ¿Hay algún valor ausente que no sea el primer pedido del cliente?\n",
    "#Buscar que valores únicos tiene la nueva variable instacart_aus \n",
    "print(\"\\nValores únicos de order_number: \", instacart_aus['order_number'].unique())"
   ]
  },
  {
   "cell_type": "markdown",
   "id": "4e23d089",
   "metadata": {
    "id": "4e23d089"
   },
   "source": [
    "Describe brevemente tus hallazgos y lo que hiciste con ellos.\n",
    "\n",
    "- Todos los valores ausentes de la columna 'days_since_prior_order' tienen un motivo, todos estos registros son de personas que no han realizando antes ningún pedido por lo que este valor hasta su 2do pedido debería estar vacío o marcado como 'NaN'."
   ]
  },
  {
   "cell_type": "markdown",
   "id": "69dc9ca4",
   "metadata": {
    "id": "69dc9ca4"
   },
   "source": [
    "### `order_products` data frame"
   ]
  },
  {
   "cell_type": "code",
   "execution_count": 31,
   "id": "b8240253",
   "metadata": {
    "id": "b8240253"
   },
   "outputs": [
    {
     "name": "stdout",
     "output_type": "stream",
     "text": [
      "order_id               0\n",
      "product_id             0\n",
      "add_to_cart_order    836\n",
      "reordered              0\n",
      "dtype: int64\n",
      "\n",
      "         order_id  product_id  add_to_cart_order  reordered\n",
      "737       2449164        5068                NaN          0\n",
      "9926      1968313       43867                NaN          0\n",
      "14394     2926893       11688                NaN          0\n",
      "16418     1717990        4142                NaN          0\n",
      "30114     1959075       42828                NaN          1\n",
      "...           ...         ...                ...        ...\n",
      "4505662   1800005        7411                NaN          0\n",
      "4511400   1633337         260                NaN          0\n",
      "4517562    404157        9517                NaN          0\n",
      "4534112   1673227       17835                NaN          0\n",
      "4535739   1832957       17949                NaN          1\n",
      "\n",
      "[836 rows x 4 columns]\n"
     ]
    }
   ],
   "source": [
    "# Encuentra los valores ausentes\n",
    "print(df_order.isna().sum())\n",
    "print()\n",
    "order_aus = df_order[df_order['add_to_cart_order'].isna()]\n",
    "print(order_aus)"
   ]
  },
  {
   "cell_type": "code",
   "execution_count": 32,
   "id": "9a78e5ee",
   "metadata": {
    "id": "9a78e5ee"
   },
   "outputs": [
    {
     "name": "stdout",
     "output_type": "stream",
     "text": [
      "Valor mínimo:  nan\n",
      "\n",
      "Valor máximo:  nan\n",
      "\n",
      "Valores únicos:  [nan]\n"
     ]
    }
   ],
   "source": [
    "# ¿Cuáles son los valores mínimos y máximos en esta columna?\n",
    "print(\"Valor mínimo: \", order_aus['add_to_cart_order'].min())\n",
    "print(\"\\nValor máximo: \" ,order_aus['add_to_cart_order'].max())\n",
    "print(\"\\nValores únicos: \", order_aus['add_to_cart_order'].unique())"
   ]
  },
  {
   "cell_type": "markdown",
   "id": "-Z2Ja215jW78",
   "metadata": {
    "id": "-Z2Ja215jW78"
   },
   "source": [
    "Describe brevemente cuáles son tus hallazgos.\n",
    "\n",
    "- Todos los valores están ausentes, no poseen un conteo en el orden en el que se fueron añadiendo al carrito. Algo salió mal en el conteo."
   ]
  },
  {
   "cell_type": "code",
   "execution_count": 33,
   "id": "ab9d0c2b",
   "metadata": {
    "id": "ab9d0c2b"
   },
   "outputs": [],
   "source": [
    "# Guarda todas las IDs de pedidos que tengan un valor ausente en 'add_to_cart_order'\n",
    "ids_order_aus = order_aus['order_id']"
   ]
  },
  {
   "cell_type": "code",
   "execution_count": 34,
   "id": "54c31695",
   "metadata": {
    "id": "54c31695"
   },
   "outputs": [
    {
     "name": "stdout",
     "output_type": "stream",
     "text": [
      "          product_id  add_to_cart_order  reordered\n",
      "order_id                                          \n",
      "9310               1                  0          1\n",
      "61355             63                  0         63\n",
      "102236            31                  0         31\n",
      "129627             5                  0          5\n",
      "165801             6                  0          6\n",
      "...              ...                ...        ...\n",
      "2999801            6                  0          6\n",
      "3125735           22                  0         22\n",
      "3308010           51                  0         51\n",
      "3347453            7                  0          7\n",
      "3383594            5                  0          5\n",
      "\n",
      "[70 rows x 3 columns]\n",
      "\n",
      "Conteo de pedidos con datos ausentes por su ID: \n",
      " 61355      63\n",
      "3308010    51\n",
      "2136777    44\n",
      "171934     40\n",
      "1959075    34\n",
      "           ..\n",
      "2652650     1\n",
      "2729254     1\n",
      "2621907     1\n",
      "888470      1\n",
      "1677118     1\n",
      "Name: order_id, Length: 70, dtype: int64\n",
      "\n",
      " product_id           1\n",
      "add_to_cart_order    0\n",
      "reordered            1\n",
      "dtype: int64\n",
      "\n",
      "Valor mínimo del conteo:  1\n"
     ]
    }
   ],
   "source": [
    "# ¿Todos los pedidos con valores ausentes tienen más de 64 productos?\n",
    "# Agrupa todos los pedidos con datos ausentes por su ID de pedido.\n",
    "grp = order_aus.groupby(['order_id'])\n",
    "print(grp.count())\n",
    "#O bien agrupado de la siguiente manera como consulta\n",
    "print(\"\\nConteo de pedidos con datos ausentes por su ID: \\n\", order_aus['order_id'].value_counts())\n",
    "# Cuenta el número de 'product_id' en cada pedido y revisa el valor mínimo del conteo.\n",
    "print(\"\\n\",grp.count().min())\n",
    "print(\"\\nValor mínimo del conteo: \", order_aus['order_id'].value_counts().min())"
   ]
  },
  {
   "cell_type": "markdown",
   "id": "p9V6pddtjglj",
   "metadata": {
    "id": "p9V6pddtjglj"
   },
   "source": [
    "Describe brevemente cuáles son tus hallazgos.\n",
    "\n",
    "- El conteo del orden en el que se fueron añadiendo los productos en cada pedido no se realizó de manera adecuada, sin embargo, podemos saber la cantidad de productos que tiene cada pedido gracias al conteo de veces que se repite cada ID de pedido."
   ]
  },
  {
   "cell_type": "code",
   "execution_count": 35,
   "id": "7a987d08",
   "metadata": {
    "id": "7a987d08"
   },
   "outputs": [],
   "source": [
    "# Remplaza los valores ausentes en la columna 'add_to_cart_order' con 999 y convierte la columna al tipo entero.\n",
    "df_order['add_to_cart_order'] = df_order['add_to_cart_order'].fillna('999')\n",
    "df_order['add_to_cart_order'] = df_order['add_to_cart_order'].astype('int')"
   ]
  },
  {
   "cell_type": "markdown",
   "id": "fea4bcc7",
   "metadata": {
    "id": "fea4bcc7"
   },
   "source": [
    "Describe brevemente tus hallazgos y lo que hiciste con ellos.\n",
    "\n",
    "- Todos los valores que estaban ausentes se rellenaron con 999 y después se convirtió la columna a tipo entero para que éstos tuvieran valor numerico pero siguieran teniendo ese distintivo de que fueron corregidos. "
   ]
  },
  {
   "cell_type": "markdown",
   "id": "f086d943-e2ac-4f3b-ba3a-148a40ebff63",
   "metadata": {},
   "source": [
    "<div class=\"alert alert-block alert-success\">\n",
    "<b>Comentario del revisor</b> <a class=\"tocSkip\"></a>\n",
    "\n",
    "Excelente trabajo con este ejercicio, completaste de manera perfecta los valores ausentes con 999."
   ]
  },
  {
   "cell_type": "markdown",
   "id": "RnplPFY1gSrb",
   "metadata": {
    "id": "RnplPFY1gSrb"
   },
   "source": [
    "## Conclusiones\n",
    "\n",
    "Escribe aquí tus conclusiones intermedias sobre el Paso 2. Preprocesamiento de los datos\n",
    "\n",
    "- El preprocesamiento en este proyecto y de manera general nos hace conocer el estado actual de la información que estamos manejando y nos permite observar errores como duplicados, valores ausentes o incluso encontrar el ¿por qué? de algunos duplicados y valores ausentes, ya que no todos son como tal errores, pueden incluso tener un significado o un motivo intencionado. Aquí es donde nuestro criterio debe ponerse en práctica como analista de datos y pulir esta información a manera que podamos hacer consultas o análisis de mejor manera en los futuros pasos.\n"
   ]
  },
  {
   "cell_type": "markdown",
   "id": "UjrOIwTcz3ri",
   "metadata": {
    "id": "UjrOIwTcz3ri"
   },
   "source": [
    "# Paso 3. Análisis de los datos\n",
    "\n",
    "Una vez los datos estén procesados y listos, haz el siguiente análisis:"
   ]
  },
  {
   "cell_type": "markdown",
   "id": "turkish-kidney",
   "metadata": {
    "id": "turkish-kidney"
   },
   "source": [
    "# [A] Fácil (deben completarse todos para aprobar)\n",
    "\n",
    "1. Verifica que los valores en las columnas `'order_hour_of_day'` y `'order_dow'` en la tabla orders sean razonables (es decir, `'order_hour_of_day'` oscile entre 0 y 23 y `'order_dow'` oscile entre 0 y 6).\n",
    "2. Crea un gráfico que muestre el número de personas que hacen pedidos dependiendo de la hora del día.\n",
    "3. Crea un gráfico que muestre qué día de la semana la gente hace sus compras.\n",
    "4. Crea un gráfico que muestre el tiempo que la gente espera hasta hacer su siguiente pedido, y comenta sobre los valores mínimos y máximos."
   ]
  },
  {
   "cell_type": "markdown",
   "id": "short-capability",
   "metadata": {
    "id": "short-capability"
   },
   "source": [
    "### [A1] Verifica que los valores sean sensibles"
   ]
  },
  {
   "cell_type": "code",
   "execution_count": 36,
   "id": "growing-fruit",
   "metadata": {
    "id": "growing-fruit"
   },
   "outputs": [
    {
     "name": "stdout",
     "output_type": "stream",
     "text": [
      "[13 12 19 20 11  8 18 15 16  9 22 10  0 14 17  1  7  6  2 21  3 23  5  4]\n"
     ]
    }
   ],
   "source": [
    "print(df_instacart['order_hour_of_day'].unique())"
   ]
  },
  {
   "cell_type": "code",
   "execution_count": 37,
   "id": "accessory-malaysia",
   "metadata": {
    "id": "accessory-malaysia"
   },
   "outputs": [
    {
     "name": "stdout",
     "output_type": "stream",
     "text": [
      "[6 5 0 4 3 1 2]\n"
     ]
    }
   ],
   "source": [
    "print(df_instacart['order_dow'].unique())"
   ]
  },
  {
   "cell_type": "markdown",
   "id": "7e290933-2004-4e0c-a490-ba943437ad37",
   "metadata": {},
   "source": [
    "<div class=\"alert alert-block alert-success\">\n",
    "<b>Comentario Revisor</b> <a class=\"tocSkip\"></a>\n",
    "\n",
    "Muy buena forma de revisar que los valores sean sensibles. Otra forma de hacerlo que puedes explorar más adeltante es el uso de la función  .value_counts(). \n",
    "</div>"
   ]
  },
  {
   "cell_type": "markdown",
   "id": "hmR2GNQ6lCsX",
   "metadata": {
    "id": "hmR2GNQ6lCsX"
   },
   "source": [
    "Escribe aquí tus conclusiones\n",
    "\n",
    "- Los valores de ambas columnas están dentro de sus valores establecidos según el tipo de dato que almacena."
   ]
  },
  {
   "cell_type": "markdown",
   "id": "a6743a70",
   "metadata": {
    "id": "a6743a70"
   },
   "source": [
    "### [A2] Para cada hora del día, ¿cuántas personas hacen órdenes?"
   ]
  },
  {
   "cell_type": "code",
   "execution_count": 38,
   "id": "a36cca27",
   "metadata": {
    "id": "a36cca27"
   },
   "outputs": [
    {
     "data": {
      "image/png": "[encoded data removed]",
      "text/plain": [
       "<Figure size 640x480 with 1 Axes>"
      ]
     },
     "metadata": {},
     "output_type": "display_data"
    }
   ],
   "source": [
    "ordenxhora=df_instacart.groupby(by='order_hour_of_day')['order_id'].count().reset_index()\n",
    "ordenxhora.plot(kind='bar',legend=False, title='Ordenes por hora al día', xlabel='Hora', ylabel='Ordenes', rot=0)\n",
    "plt.show()"
   ]
  },
  {
   "cell_type": "markdown",
   "id": "8eb2753b-ae02-411e-9753-6e0273e9bda9",
   "metadata": {},
   "source": [
    "<div class=\"alert alert-block alert-success\">\n",
    "<b>Comentario revisor</b> <a class=\"tocSkip\"></a>\n",
    "\n",
    "\n",
    "Muy buen trabajo el desarrollar una gráfica para visualizar los resultados\n",
    "</div>"
   ]
  },
  {
   "cell_type": "markdown",
   "id": "11270eed",
   "metadata": {
    "id": "11270eed"
   },
   "source": [
    "Escribe aquí tus conclusiones\n",
    "\n",
    "- Las horas en las que se realiza la mayor cantidad de ordenes es de las 9 a las 15hrs, sin embargo, se logra notar una ligera caída al medio día (12hrs).\n",
    "- Se cuenta con registro de ordenes en todas las horas del día, aún en horarios nocturnos aunque en menor medida, se registran ordenes.\n",
    "- Las ordenes empiezan a tener un comportamiento ascendente a partir de las 5hrs, alcanzando su valor máximo de ordenes a las 10hrs."
   ]
  },
  {
   "cell_type": "markdown",
   "id": "documented-command",
   "metadata": {
    "id": "documented-command"
   },
   "source": [
    "### [A3] ¿Qué día de la semana compran víveres las personas?"
   ]
  },
  {
   "cell_type": "code",
   "execution_count": 39,
   "id": "chief-digit",
   "metadata": {
    "id": "chief-digit"
   },
   "outputs": [
    {
     "data": {
      "image/png": "[encoded data removed]",
      "text/plain": [
       "<Figure size 640x480 with 1 Axes>"
      ]
     },
     "metadata": {},
     "output_type": "display_data"
    }
   ],
   "source": [
    "compraxdia = df_instacart.groupby(by='order_dow')['order_id'].count().reset_index()\n",
    "compraxdia.plot(kind='bar',legend=False, title='Compras por día \\n(Dom-Sab)', xlabel='Día', ylabel='Compras', rot=0)\n",
    "plt.show()"
   ]
  },
  {
   "cell_type": "markdown",
   "id": "dominant-lightning",
   "metadata": {
    "id": "dominant-lightning"
   },
   "source": [
    "Escribe aquí tus conclusiones\n",
    "\n",
    "- Los días de mayor cantidad de compras son los domingos (0) y lunes (1), siendo el domingo el día con más compras.\n",
    "- La cantidad de compras se ve mermada en los días intermedios, en donde el miércoles tiene la menor cantidad de compras.\n",
    "- La baja en de compras más marcada es del día lunes al martes.\n",
    "- Se observa de manera muy marcada como las personas preparan sus compras para el inicio de la semana."
   ]
  },
  {
   "cell_type": "markdown",
   "id": "cutting-concert",
   "metadata": {
    "editable": true,
    "id": "cutting-concert",
    "slideshow": {
     "slide_type": ""
    },
    "tags": []
   },
   "source": [
    "### [A4] ¿Cuánto tiempo esperan las personas hasta hacer otro pedido? Comenta sobre los valores mínimos y máximos."
   ]
  },
  {
   "cell_type": "code",
   "execution_count": 40,
   "id": "c231f523",
   "metadata": {
    "id": "c231f523"
   },
   "outputs": [
    {
     "data": {
      "image/png": "[encoded data removed]",
      "text/plain": [
       "<Figure size 1300x500 with 1 Axes>"
      ]
     },
     "metadata": {},
     "output_type": "display_data"
    }
   ],
   "source": [
    "ultimopedido = df_instacart.groupby('days_since_prior_order')['user_id'].count().reset_index()\n",
    "ultimopedido.plot(kind='bar',legend=False, title='Días transcurridos desde el último pedido', xlabel='Día', ylabel='Usuarios', rot=0, figsize=[13,5])\n",
    "plt.show()"
   ]
  },
  {
   "cell_type": "markdown",
   "id": "discrete-vertex",
   "metadata": {
    "id": "discrete-vertex"
   },
   "source": [
    "- El valor mínimo (0) nos indica que hay una cantidad considerable de usuarios que realizan multiples pedidos el mismo día.\n",
    "- El valor máximo (30) nos indica varias cuestiones:\n",
    "  \n",
    "      - Hay muchos usuarios que realizan pedidos mensuales.\n",
    "  \n",
    "      - La misma lista no está diseñada para almacenar periodos más largos que 30 días.\n",
    "  \n",
    "      - En relación al punto anterior, puede que muchos usuarios han dejado de usar la app.\n",
    "\n",
    "- Se logra también observar que hay usuarios que realizan pedidos semanales, por eso el 2do valor más alto es el 7 que sería el transcurso de 1 semana."
   ]
  },
  {
   "cell_type": "markdown",
   "id": "tight-staff",
   "metadata": {
    "id": "tight-staff"
   },
   "source": [
    "# [B] Intermedio (deben completarse todos para aprobar)\n",
    "\n",
    "1. ¿Existe alguna diferencia entre las distribuciones `'order_hour_of_day'` de los miércoles y los sábados? Traza gráficos de barra de `'order_hour_of_day'` para ambos días en la misma figura y describe las diferencias que observes.\n",
    "2. Grafica la distribución para el número de órdenes que hacen los clientes (es decir, cuántos clientes hicieron solo 1 pedido, cuántos hicieron 2, cuántos 3, y así sucesivamente...).\n",
    "3. ¿Cuáles son los 20 principales productos que se piden con más frecuencia (muestra su identificación y nombre)?"
   ]
  },
  {
   "cell_type": "markdown",
   "id": "packed-classic",
   "metadata": {
    "id": "packed-classic"
   },
   "source": [
    "### [B1] Diferencia entre miércoles y sábados para  `'order_hour_of_day'`. Traza gráficos de barra para los dos días y describe las diferencias que veas."
   ]
  },
  {
   "cell_type": "code",
   "execution_count": 41,
   "id": "94e54e8a",
   "metadata": {
    "id": "94e54e8a"
   },
   "outputs": [],
   "source": [
    "ordenesagrupadas = df_instacart.groupby(['order_dow','order_hour_of_day'])['order_id'].count().reset_index()"
   ]
  },
  {
   "cell_type": "code",
   "execution_count": 42,
   "id": "d89b8403",
   "metadata": {
    "id": "d89b8403"
   },
   "outputs": [],
   "source": [
    "ordenesdias = ordenesagrupadas[(ordenesagrupadas['order_dow'] == 3) | (ordenesagrupadas['order_dow'] == 6)].reset_index().drop('index',axis='columns')"
   ]
  },
  {
   "cell_type": "code",
   "execution_count": 43,
   "id": "fde08609-37ff-47a5-8954-98114a3a5869",
   "metadata": {},
   "outputs": [],
   "source": [
    "pivotordenes = ordenesdias.pivot_table(columns='order_dow', index='order_hour_of_day', values='order_id')"
   ]
  },
  {
   "cell_type": "code",
   "execution_count": 44,
   "id": "21de4014-1ea1-4eed-8f10-fec15b17dbb4",
   "metadata": {},
   "outputs": [
    {
     "data": {
      "image/png": "[encoded data removed]",
      "text/plain": [
       "<Figure size 1000x400 with 1 Axes>"
      ]
     },
     "metadata": {},
     "output_type": "display_data"
    }
   ],
   "source": [
    "pivotordenes.plot(kind='bar', title='Ordenes por hora en miércoles y sábado', legend=False, xlabel= 'Hora', ylabel= 'Ordenes',rot=0, figsize=[10, 4])\n",
    "plt.legend(['Miércoles', 'Sábado'])\n",
    "plt.show()"
   ]
  },
  {
   "cell_type": "markdown",
   "id": "charitable-congo",
   "metadata": {
    "id": "charitable-congo"
   },
   "source": [
    "Escribe aquí tus conclusiones\n",
    "\n",
    "- Ambos días presentan un comportamiento de ordenes similar, el día sábado difiere en que su valor más alto es a las 14hrs, mientras que en miércoles es a las 15hrs.\n",
    "- En horario nocturno el día sábado se realizan más ordenes con respecto al día miércoles.\n",
    "- Ambos días tienen su mayor diferencia de ordenes entre las 8 y 9 hrs."
   ]
  },
  {
   "cell_type": "markdown",
   "id": "e3891143",
   "metadata": {
    "id": "e3891143"
   },
   "source": [
    "### [B2] ¿Cuál es la distribución para el número de pedidos por cliente?"
   ]
  },
  {
   "cell_type": "code",
   "execution_count": 45,
   "id": "68b5a6db-cf1f-40c0-84ad-4ae3ab5c1819",
   "metadata": {},
   "outputs": [],
   "source": [
    "pedidos_x_cliente = df_instacart.groupby('user_id')['order_number'].max().reset_index()"
   ]
  },
  {
   "cell_type": "code",
   "execution_count": 46,
   "id": "d8c26c23",
   "metadata": {
    "id": "d8c26c23"
   },
   "outputs": [],
   "source": [
    "frecuencia_pedidos = pedidos_x_cliente.groupby('order_number').count().reset_index()"
   ]
  },
  {
   "cell_type": "code",
   "execution_count": 47,
   "id": "00e69a66",
   "metadata": {
    "id": "00e69a66"
   },
   "outputs": [
    {
     "data": {
      "image/png": "[encoded data removed]",
      "text/plain": [
       "<Figure size 2000x800 with 1 Axes>"
      ]
     },
     "metadata": {},
     "output_type": "display_data"
    }
   ],
   "source": [
    "frecuencia_pedidos.plot(kind='bar',x='order_number',y='user_id',xlabel='Núm. pedidos',ylabel='Frecuencia', title='Frecuencia de pedidos realizados por usuarios',legend=False,figsize=[20,8])\n",
    "plt.show()"
   ]
  },
  {
   "cell_type": "markdown",
   "id": "d2eff7d5",
   "metadata": {
    "id": "d2eff7d5"
   },
   "source": [
    "Escribe aquí tus conclusiones\n",
    "\n",
    "- Este gráfico nos muestra como conforme van creciendo el # de pedidos, la frecuencia de usuarios va en decremento.\n",
    "  \n",
    "- Que la mayor cantidad de usuarios haga pocos pedidos puede indicar dos cosas:\n",
    "\n",
    "  \n",
    "      - La app está teniendo buen alcance, por lo que muchos usuarios la prueban realizando sus primeros pedidos.\n",
    "\n",
    "      - La app no está logrando \"capturar\" o \"atrapar\" a los usuarios, por lo que sólo realizan unos primeros pedidos y la dejan de usar."
   ]
  },
  {
   "cell_type": "markdown",
   "id": "54a0319c",
   "metadata": {
    "id": "54a0319c"
   },
   "source": [
    "### [B3] ¿Cuáles son los 20 productos más populares (muestra su ID y nombre)?"
   ]
  },
  {
   "cell_type": "code",
   "execution_count": 48,
   "id": "exterior-arizona",
   "metadata": {
    "id": "exterior-arizona",
    "scrolled": true
   },
   "outputs": [],
   "source": [
    "#Agrupa df_order únicamente pro id de producto y muestra el conteo total de veces que se ha ordenado ese producto\n",
    "populares = df_order.groupby('product_id')['order_id'].count().reset_index().sort_values('order_id',ascending=False)"
   ]
  },
  {
   "cell_type": "code",
   "execution_count": 49,
   "id": "universal-facial",
   "metadata": {
    "id": "universal-facial"
   },
   "outputs": [],
   "source": [
    "#crea variable con top 20 productos más pedidos\n",
    "top20 = populares.head(20)"
   ]
  },
  {
   "cell_type": "code",
   "execution_count": 50,
   "id": "bbcdd20b",
   "metadata": {
    "id": "bbcdd20b"
   },
   "outputs": [
    {
     "data": {
      "text/html": [
       "<div>\n",
       "<style scoped>\n",
       "    .dataframe tbody tr th:only-of-type {\n",
       "        vertical-align: middle;\n",
       "    }\n",
       "\n",
       "    .dataframe tbody tr th {\n",
       "        vertical-align: top;\n",
       "    }\n",
       "\n",
       "    .dataframe thead th {\n",
       "        text-align: right;\n",
       "    }\n",
       "</style>\n",
       "<table border=\"1\" class=\"dataframe\">\n",
       "  <thead>\n",
       "    <tr style=\"text-align: right;\">\n",
       "      <th></th>\n",
       "      <th>product_id</th>\n",
       "      <th>product_name</th>\n",
       "      <th>aisle_id</th>\n",
       "      <th>department_id</th>\n",
       "      <th>order_id</th>\n",
       "    </tr>\n",
       "  </thead>\n",
       "  <tbody>\n",
       "    <tr>\n",
       "      <th>0</th>\n",
       "      <td>24852</td>\n",
       "      <td>BANANA</td>\n",
       "      <td>24</td>\n",
       "      <td>4</td>\n",
       "      <td>66050</td>\n",
       "    </tr>\n",
       "    <tr>\n",
       "      <th>1</th>\n",
       "      <td>13176</td>\n",
       "      <td>BAG OF ORGANIC BANANAS</td>\n",
       "      <td>24</td>\n",
       "      <td>4</td>\n",
       "      <td>53297</td>\n",
       "    </tr>\n",
       "    <tr>\n",
       "      <th>2</th>\n",
       "      <td>21137</td>\n",
       "      <td>ORGANIC STRAWBERRIES</td>\n",
       "      <td>24</td>\n",
       "      <td>4</td>\n",
       "      <td>37039</td>\n",
       "    </tr>\n",
       "    <tr>\n",
       "      <th>3</th>\n",
       "      <td>21903</td>\n",
       "      <td>ORGANIC BABY SPINACH</td>\n",
       "      <td>123</td>\n",
       "      <td>4</td>\n",
       "      <td>33971</td>\n",
       "    </tr>\n",
       "    <tr>\n",
       "      <th>4</th>\n",
       "      <td>47209</td>\n",
       "      <td>ORGANIC HASS AVOCADO</td>\n",
       "      <td>24</td>\n",
       "      <td>4</td>\n",
       "      <td>29773</td>\n",
       "    </tr>\n",
       "    <tr>\n",
       "      <th>5</th>\n",
       "      <td>47766</td>\n",
       "      <td>ORGANIC AVOCADO</td>\n",
       "      <td>24</td>\n",
       "      <td>4</td>\n",
       "      <td>24689</td>\n",
       "    </tr>\n",
       "    <tr>\n",
       "      <th>6</th>\n",
       "      <td>47626</td>\n",
       "      <td>LARGE LEMON</td>\n",
       "      <td>24</td>\n",
       "      <td>4</td>\n",
       "      <td>21495</td>\n",
       "    </tr>\n",
       "    <tr>\n",
       "      <th>7</th>\n",
       "      <td>16797</td>\n",
       "      <td>STRAWBERRIES</td>\n",
       "      <td>24</td>\n",
       "      <td>4</td>\n",
       "      <td>20018</td>\n",
       "    </tr>\n",
       "    <tr>\n",
       "      <th>8</th>\n",
       "      <td>26209</td>\n",
       "      <td>LIMES</td>\n",
       "      <td>24</td>\n",
       "      <td>4</td>\n",
       "      <td>19690</td>\n",
       "    </tr>\n",
       "    <tr>\n",
       "      <th>9</th>\n",
       "      <td>27845</td>\n",
       "      <td>ORGANIC WHOLE MILK</td>\n",
       "      <td>84</td>\n",
       "      <td>16</td>\n",
       "      <td>19600</td>\n",
       "    </tr>\n",
       "    <tr>\n",
       "      <th>10</th>\n",
       "      <td>27966</td>\n",
       "      <td>ORGANIC RASPBERRIES</td>\n",
       "      <td>123</td>\n",
       "      <td>4</td>\n",
       "      <td>19197</td>\n",
       "    </tr>\n",
       "    <tr>\n",
       "      <th>11</th>\n",
       "      <td>22935</td>\n",
       "      <td>ORGANIC YELLOW ONION</td>\n",
       "      <td>83</td>\n",
       "      <td>4</td>\n",
       "      <td>15898</td>\n",
       "    </tr>\n",
       "    <tr>\n",
       "      <th>12</th>\n",
       "      <td>24964</td>\n",
       "      <td>ORGANIC GARLIC</td>\n",
       "      <td>83</td>\n",
       "      <td>4</td>\n",
       "      <td>15292</td>\n",
       "    </tr>\n",
       "    <tr>\n",
       "      <th>13</th>\n",
       "      <td>45007</td>\n",
       "      <td>ORGANIC ZUCCHINI</td>\n",
       "      <td>83</td>\n",
       "      <td>4</td>\n",
       "      <td>14584</td>\n",
       "    </tr>\n",
       "    <tr>\n",
       "      <th>14</th>\n",
       "      <td>39275</td>\n",
       "      <td>ORGANIC BLUEBERRIES</td>\n",
       "      <td>123</td>\n",
       "      <td>4</td>\n",
       "      <td>13879</td>\n",
       "    </tr>\n",
       "    <tr>\n",
       "      <th>15</th>\n",
       "      <td>49683</td>\n",
       "      <td>CUCUMBER KIRBY</td>\n",
       "      <td>83</td>\n",
       "      <td>4</td>\n",
       "      <td>13675</td>\n",
       "    </tr>\n",
       "    <tr>\n",
       "      <th>16</th>\n",
       "      <td>28204</td>\n",
       "      <td>ORGANIC FUJI APPLE</td>\n",
       "      <td>24</td>\n",
       "      <td>4</td>\n",
       "      <td>12544</td>\n",
       "    </tr>\n",
       "    <tr>\n",
       "      <th>17</th>\n",
       "      <td>5876</td>\n",
       "      <td>ORGANIC LEMON</td>\n",
       "      <td>24</td>\n",
       "      <td>4</td>\n",
       "      <td>12232</td>\n",
       "    </tr>\n",
       "    <tr>\n",
       "      <th>18</th>\n",
       "      <td>8277</td>\n",
       "      <td>APPLE HONEYCRISP ORGANIC</td>\n",
       "      <td>24</td>\n",
       "      <td>4</td>\n",
       "      <td>11993</td>\n",
       "    </tr>\n",
       "    <tr>\n",
       "      <th>19</th>\n",
       "      <td>40706</td>\n",
       "      <td>ORGANIC GRAPE TOMATOES</td>\n",
       "      <td>123</td>\n",
       "      <td>4</td>\n",
       "      <td>11781</td>\n",
       "    </tr>\n",
       "  </tbody>\n",
       "</table>\n",
       "</div>"
      ],
      "text/plain": [
       "    product_id              product_name  aisle_id  department_id  order_id\n",
       "0        24852                    BANANA        24              4     66050\n",
       "1        13176    BAG OF ORGANIC BANANAS        24              4     53297\n",
       "2        21137      ORGANIC STRAWBERRIES        24              4     37039\n",
       "3        21903      ORGANIC BABY SPINACH       123              4     33971\n",
       "4        47209      ORGANIC HASS AVOCADO        24              4     29773\n",
       "5        47766           ORGANIC AVOCADO        24              4     24689\n",
       "6        47626               LARGE LEMON        24              4     21495\n",
       "7        16797              STRAWBERRIES        24              4     20018\n",
       "8        26209                     LIMES        24              4     19690\n",
       "9        27845        ORGANIC WHOLE MILK        84             16     19600\n",
       "10       27966       ORGANIC RASPBERRIES       123              4     19197\n",
       "11       22935      ORGANIC YELLOW ONION        83              4     15898\n",
       "12       24964            ORGANIC GARLIC        83              4     15292\n",
       "13       45007          ORGANIC ZUCCHINI        83              4     14584\n",
       "14       39275       ORGANIC BLUEBERRIES       123              4     13879\n",
       "15       49683            CUCUMBER KIRBY        83              4     13675\n",
       "16       28204        ORGANIC FUJI APPLE        24              4     12544\n",
       "17        5876             ORGANIC LEMON        24              4     12232\n",
       "18        8277  APPLE HONEYCRISP ORGANIC        24              4     11993\n",
       "19       40706    ORGANIC GRAPE TOMATOES       123              4     11781"
      ]
     },
     "metadata": {},
     "output_type": "display_data"
    }
   ],
   "source": [
    "#Une la base de datos de productos (df_products) con la variable top20 para obtener el nombre de los productos\n",
    "top20_con_nombres = df_products.merge(top20, on='product_id', how='right')\n",
    "display(top20_con_nombres)"
   ]
  },
  {
   "cell_type": "markdown",
   "id": "7df00f47",
   "metadata": {
    "id": "7df00f47"
   },
   "source": [
    "Escribe aquí tus conclusiones\n",
    "\n",
    "- Casi la totalidad de los productos más vendidos pertenecen al mismo departamento (4).\n",
    "- 4 de los 5 productos más vendidos son productos orgánicos.\n",
    "- La combinación de tablas da mejor entendimiento para el análisis de la información al poder ver el nombre de los productos."
   ]
  },
  {
   "cell_type": "markdown",
   "id": "99918115-9df3-4931-9862-6e99a0f17ab8",
   "metadata": {},
   "source": [
    "<div class=\"alert alert-block alert-success\">\n",
    "<b>Comentario revisor</b> <a class=\"tocSkip\"></a>\n",
    "\n",
    "\n",
    "Gran trabajo con el desarrollo de estos ejercicios, donde complementas con gráficas para mostrar mejor los resultados"
   ]
  },
  {
   "cell_type": "markdown",
   "id": "gross-theme",
   "metadata": {
    "id": "gross-theme"
   },
   "source": [
    "# [C] Difícil (deben completarse todos para aprobar)\n",
    "\n",
    "1. ¿Cuántos artículos suelen comprar las personas en un pedido? ¿Cómo es la distribución?\n",
    "2. ¿Cuáles son los 20 principales artículos que vuelven a pedirse con mayor frecuencia (muestra sus nombres e IDs de los productos)?\n",
    "3. Para cada producto, ¿cuál es la tasa de repetición del pedido (número de repeticiones de pedido/total de pedidos?\n",
    "4. Para cada cliente, ¿qué proporción de los productos que pidió ya los había pedido? Calcula la tasa de repetición de pedido para cada usuario en lugar de para cada producto.\n",
    "5. ¿Cuáles son los 20 principales artículos que la gente pone primero en sus carritos (muestra las IDs de los productos, sus nombres, y el número de veces en que fueron el primer artículo en añadirse al carrito)?"
   ]
  },
  {
   "cell_type": "markdown",
   "id": "romantic-deposit",
   "metadata": {
    "id": "romantic-deposit"
   },
   "source": [
    "### [C1] ¿Cuántos artículos compran normalmente las personas en un pedido? ¿Cómo es la distribución?"
   ]
  },
  {
   "cell_type": "code",
   "execution_count": 51,
   "id": "virtual-punch",
   "metadata": {
    "id": "virtual-punch"
   },
   "outputs": [],
   "source": [
    "artxorden = df_order.groupby('order_id')['product_id'].count().reset_index()"
   ]
  },
  {
   "cell_type": "code",
   "execution_count": 52,
   "id": "sensitive-breathing",
   "metadata": {
    "id": "sensitive-breathing"
   },
   "outputs": [
    {
     "name": "stdout",
     "output_type": "stream",
     "text": [
      "Promedio de artículos por pedido:  10.098983215049127\n"
     ]
    }
   ],
   "source": [
    "print(\"Promedio de artículos por pedido: \", artxorden['product_id'].mean())"
   ]
  },
  {
   "cell_type": "code",
   "execution_count": 53,
   "id": "completed-frank",
   "metadata": {
    "id": "completed-frank"
   },
   "outputs": [
    {
     "data": {
      "text/plain": [
       "<AxesSubplot:title={'center':'Distribución de artículos comprados por persona'}, xlabel='Cantidad de productos', ylabel='Cantidad de usuarios'>"
      ]
     },
     "execution_count": 53,
     "metadata": {},
     "output_type": "execute_result"
    },
    {
     "data": {
      "image/png": "[encoded data removed]",
      "text/plain": [
       "<Figure size 1500x600 with 1 Axes>"
      ]
     },
     "metadata": {},
     "output_type": "display_data"
    }
   ],
   "source": [
    "distribucion = artxorden.groupby('product_id').count().reset_index()\n",
    "distribucion.plot(kind='bar',legend=False,title='Distribución de artículos comprados por persona',xlabel='Cantidad de productos',ylabel='Cantidad de usuarios',figsize=[15,6])"
   ]
  },
  {
   "cell_type": "markdown",
   "id": "designed-mortality",
   "metadata": {
    "id": "designed-mortality"
   },
   "source": [
    "Escribe aquí tus conclusiones\n",
    "\n",
    "- Los usuarios realizan con mayor frecuencia pedidos de no más 8 artículos.\n",
    "- La mayoría de usuarios piden 3 o 4 artículos.\n",
    "- Los puntos anteriores sugieren que los usuarios utilizan más la app para realizar compras emergentes o de complemento y no para realizar compras grandes."
   ]
  },
  {
   "cell_type": "markdown",
   "id": "5e6b5537",
   "metadata": {
    "id": "5e6b5537"
   },
   "source": [
    "### [C2] ¿Cuáles son los 20 principales artículos que vuelven a pedirse con mayor frecuencia (muestra sus nombres e IDs de los productos)?"
   ]
  },
  {
   "cell_type": "code",
   "execution_count": 54,
   "id": "9374e55a",
   "metadata": {
    "id": "9374e55a"
   },
   "outputs": [],
   "source": [
    "#Agrupa df_order únicamente por id de producto y muestra la suma de veces que se ha reordenado ese producto\n",
    "reordenados = df_order.groupby('product_id')['reordered'].sum().reset_index().sort_values('reordered',ascending=False)"
   ]
  },
  {
   "cell_type": "code",
   "execution_count": 55,
   "id": "possible-change",
   "metadata": {
    "id": "possible-change",
    "scrolled": true
   },
   "outputs": [],
   "source": [
    "#crea variable con top 20 productos más reordenados\n",
    "top20_reordenados = reordenados.head(20)"
   ]
  },
  {
   "cell_type": "code",
   "execution_count": 56,
   "id": "professional-surfing",
   "metadata": {
    "id": "professional-surfing",
    "scrolled": true
   },
   "outputs": [
    {
     "data": {
      "text/html": [
       "<div>\n",
       "<style scoped>\n",
       "    .dataframe tbody tr th:only-of-type {\n",
       "        vertical-align: middle;\n",
       "    }\n",
       "\n",
       "    .dataframe tbody tr th {\n",
       "        vertical-align: top;\n",
       "    }\n",
       "\n",
       "    .dataframe thead th {\n",
       "        text-align: right;\n",
       "    }\n",
       "</style>\n",
       "<table border=\"1\" class=\"dataframe\">\n",
       "  <thead>\n",
       "    <tr style=\"text-align: right;\">\n",
       "      <th></th>\n",
       "      <th>product_id</th>\n",
       "      <th>product_name</th>\n",
       "      <th>aisle_id</th>\n",
       "      <th>department_id</th>\n",
       "      <th>reordered</th>\n",
       "    </tr>\n",
       "  </thead>\n",
       "  <tbody>\n",
       "    <tr>\n",
       "      <th>0</th>\n",
       "      <td>24852</td>\n",
       "      <td>BANANA</td>\n",
       "      <td>24</td>\n",
       "      <td>4</td>\n",
       "      <td>55763</td>\n",
       "    </tr>\n",
       "    <tr>\n",
       "      <th>1</th>\n",
       "      <td>13176</td>\n",
       "      <td>BAG OF ORGANIC BANANAS</td>\n",
       "      <td>24</td>\n",
       "      <td>4</td>\n",
       "      <td>44450</td>\n",
       "    </tr>\n",
       "    <tr>\n",
       "      <th>2</th>\n",
       "      <td>21137</td>\n",
       "      <td>ORGANIC STRAWBERRIES</td>\n",
       "      <td>24</td>\n",
       "      <td>4</td>\n",
       "      <td>28639</td>\n",
       "    </tr>\n",
       "    <tr>\n",
       "      <th>3</th>\n",
       "      <td>21903</td>\n",
       "      <td>ORGANIC BABY SPINACH</td>\n",
       "      <td>123</td>\n",
       "      <td>4</td>\n",
       "      <td>26233</td>\n",
       "    </tr>\n",
       "    <tr>\n",
       "      <th>4</th>\n",
       "      <td>47209</td>\n",
       "      <td>ORGANIC HASS AVOCADO</td>\n",
       "      <td>24</td>\n",
       "      <td>4</td>\n",
       "      <td>23629</td>\n",
       "    </tr>\n",
       "    <tr>\n",
       "      <th>5</th>\n",
       "      <td>47766</td>\n",
       "      <td>ORGANIC AVOCADO</td>\n",
       "      <td>24</td>\n",
       "      <td>4</td>\n",
       "      <td>18743</td>\n",
       "    </tr>\n",
       "    <tr>\n",
       "      <th>6</th>\n",
       "      <td>27845</td>\n",
       "      <td>ORGANIC WHOLE MILK</td>\n",
       "      <td>84</td>\n",
       "      <td>16</td>\n",
       "      <td>16251</td>\n",
       "    </tr>\n",
       "    <tr>\n",
       "      <th>7</th>\n",
       "      <td>47626</td>\n",
       "      <td>LARGE LEMON</td>\n",
       "      <td>24</td>\n",
       "      <td>4</td>\n",
       "      <td>15044</td>\n",
       "    </tr>\n",
       "    <tr>\n",
       "      <th>8</th>\n",
       "      <td>27966</td>\n",
       "      <td>ORGANIC RASPBERRIES</td>\n",
       "      <td>123</td>\n",
       "      <td>4</td>\n",
       "      <td>14748</td>\n",
       "    </tr>\n",
       "    <tr>\n",
       "      <th>9</th>\n",
       "      <td>16797</td>\n",
       "      <td>STRAWBERRIES</td>\n",
       "      <td>24</td>\n",
       "      <td>4</td>\n",
       "      <td>13945</td>\n",
       "    </tr>\n",
       "    <tr>\n",
       "      <th>10</th>\n",
       "      <td>26209</td>\n",
       "      <td>LIMES</td>\n",
       "      <td>24</td>\n",
       "      <td>4</td>\n",
       "      <td>13327</td>\n",
       "    </tr>\n",
       "    <tr>\n",
       "      <th>11</th>\n",
       "      <td>22935</td>\n",
       "      <td>ORGANIC YELLOW ONION</td>\n",
       "      <td>83</td>\n",
       "      <td>4</td>\n",
       "      <td>11145</td>\n",
       "    </tr>\n",
       "    <tr>\n",
       "      <th>12</th>\n",
       "      <td>24964</td>\n",
       "      <td>ORGANIC GARLIC</td>\n",
       "      <td>83</td>\n",
       "      <td>4</td>\n",
       "      <td>10411</td>\n",
       "    </tr>\n",
       "    <tr>\n",
       "      <th>13</th>\n",
       "      <td>45007</td>\n",
       "      <td>ORGANIC ZUCCHINI</td>\n",
       "      <td>83</td>\n",
       "      <td>4</td>\n",
       "      <td>10076</td>\n",
       "    </tr>\n",
       "    <tr>\n",
       "      <th>14</th>\n",
       "      <td>49683</td>\n",
       "      <td>CUCUMBER KIRBY</td>\n",
       "      <td>83</td>\n",
       "      <td>4</td>\n",
       "      <td>9538</td>\n",
       "    </tr>\n",
       "    <tr>\n",
       "      <th>15</th>\n",
       "      <td>28204</td>\n",
       "      <td>ORGANIC FUJI APPLE</td>\n",
       "      <td>24</td>\n",
       "      <td>4</td>\n",
       "      <td>8989</td>\n",
       "    </tr>\n",
       "    <tr>\n",
       "      <th>16</th>\n",
       "      <td>8277</td>\n",
       "      <td>APPLE HONEYCRISP ORGANIC</td>\n",
       "      <td>24</td>\n",
       "      <td>4</td>\n",
       "      <td>8836</td>\n",
       "    </tr>\n",
       "    <tr>\n",
       "      <th>17</th>\n",
       "      <td>39275</td>\n",
       "      <td>ORGANIC BLUEBERRIES</td>\n",
       "      <td>123</td>\n",
       "      <td>4</td>\n",
       "      <td>8799</td>\n",
       "    </tr>\n",
       "    <tr>\n",
       "      <th>18</th>\n",
       "      <td>5876</td>\n",
       "      <td>ORGANIC LEMON</td>\n",
       "      <td>24</td>\n",
       "      <td>4</td>\n",
       "      <td>8412</td>\n",
       "    </tr>\n",
       "    <tr>\n",
       "      <th>19</th>\n",
       "      <td>49235</td>\n",
       "      <td>ORGANIC HALF &amp; HALF</td>\n",
       "      <td>53</td>\n",
       "      <td>16</td>\n",
       "      <td>8389</td>\n",
       "    </tr>\n",
       "  </tbody>\n",
       "</table>\n",
       "</div>"
      ],
      "text/plain": [
       "    product_id              product_name  aisle_id  department_id  reordered\n",
       "0        24852                    BANANA        24              4      55763\n",
       "1        13176    BAG OF ORGANIC BANANAS        24              4      44450\n",
       "2        21137      ORGANIC STRAWBERRIES        24              4      28639\n",
       "3        21903      ORGANIC BABY SPINACH       123              4      26233\n",
       "4        47209      ORGANIC HASS AVOCADO        24              4      23629\n",
       "5        47766           ORGANIC AVOCADO        24              4      18743\n",
       "6        27845        ORGANIC WHOLE MILK        84             16      16251\n",
       "7        47626               LARGE LEMON        24              4      15044\n",
       "8        27966       ORGANIC RASPBERRIES       123              4      14748\n",
       "9        16797              STRAWBERRIES        24              4      13945\n",
       "10       26209                     LIMES        24              4      13327\n",
       "11       22935      ORGANIC YELLOW ONION        83              4      11145\n",
       "12       24964            ORGANIC GARLIC        83              4      10411\n",
       "13       45007          ORGANIC ZUCCHINI        83              4      10076\n",
       "14       49683            CUCUMBER KIRBY        83              4       9538\n",
       "15       28204        ORGANIC FUJI APPLE        24              4       8989\n",
       "16        8277  APPLE HONEYCRISP ORGANIC        24              4       8836\n",
       "17       39275       ORGANIC BLUEBERRIES       123              4       8799\n",
       "18        5876             ORGANIC LEMON        24              4       8412\n",
       "19       49235       ORGANIC HALF & HALF        53             16       8389"
      ]
     },
     "metadata": {},
     "output_type": "display_data"
    }
   ],
   "source": [
    "#Une la base de datos de productos (df_products) con la variable top20_reordenados para obtener el nombre de los productos\n",
    "top20_reordenados_con_nombres = df_products.merge(top20_reordenados, on='product_id', how='right')\n",
    "display(top20_reordenados_con_nombres)"
   ]
  },
  {
   "cell_type": "markdown",
   "id": "80e70c74",
   "metadata": {
    "id": "80e70c74"
   },
   "source": [
    "Escribe aquí tus conclusiones\n",
    "\n",
    "- Los productos que más se reordenan son casi los mismos que mayor popularidad tienen."
   ]
  },
  {
   "cell_type": "markdown",
   "id": "9d312b14",
   "metadata": {
    "id": "9d312b14"
   },
   "source": [
    "### [C3] Para cada producto, ¿cuál es la proporción de las veces que se pide y que se vuelve a pedir?\n",
    "Para cada producto, ¿cuál es la tasa de repetición del pedido (número de repeticiones de pedido/total de pedidos?"
   ]
  },
  {
   "cell_type": "code",
   "execution_count": 57,
   "id": "8ae9f4b1",
   "metadata": {
    "id": "8ae9f4b1"
   },
   "outputs": [],
   "source": [
    "# crea una variable que cuente la cantidad total de veces que se han pedido los productos\n",
    "pedidos_x_producto = df_order.groupby('product_id')['reordered'].count().reset_index().sort_values('reordered',ascending=False)"
   ]
  },
  {
   "cell_type": "code",
   "execution_count": 58,
   "id": "103e7fe1",
   "metadata": {
    "id": "103e7fe1"
   },
   "outputs": [],
   "source": [
    "#se realiza merge entre los ordenados totales (_0) y los reordenados (_1)\n",
    "merge_pedidos_x_producto_y_reordenados = pedidos_x_producto.merge(reordenados, on='product_id', suffixes=('_0','_1'))"
   ]
  },
  {
   "cell_type": "code",
   "execution_count": 59,
   "id": "social-individual",
   "metadata": {
    "id": "social-individual"
   },
   "outputs": [
    {
     "data": {
      "text/html": [
       "<div>\n",
       "<style scoped>\n",
       "    .dataframe tbody tr th:only-of-type {\n",
       "        vertical-align: middle;\n",
       "    }\n",
       "\n",
       "    .dataframe tbody tr th {\n",
       "        vertical-align: top;\n",
       "    }\n",
       "\n",
       "    .dataframe thead th {\n",
       "        text-align: right;\n",
       "    }\n",
       "</style>\n",
       "<table border=\"1\" class=\"dataframe\">\n",
       "  <thead>\n",
       "    <tr style=\"text-align: right;\">\n",
       "      <th></th>\n",
       "      <th>product_id</th>\n",
       "      <th>reordered_0</th>\n",
       "      <th>reordered_1</th>\n",
       "      <th>tasa_repeticion</th>\n",
       "    </tr>\n",
       "  </thead>\n",
       "  <tbody>\n",
       "    <tr>\n",
       "      <th>0</th>\n",
       "      <td>24852</td>\n",
       "      <td>66050</td>\n",
       "      <td>55763</td>\n",
       "      <td>0.844254</td>\n",
       "    </tr>\n",
       "    <tr>\n",
       "      <th>1</th>\n",
       "      <td>13176</td>\n",
       "      <td>53297</td>\n",
       "      <td>44450</td>\n",
       "      <td>0.834006</td>\n",
       "    </tr>\n",
       "    <tr>\n",
       "      <th>2</th>\n",
       "      <td>21137</td>\n",
       "      <td>37039</td>\n",
       "      <td>28639</td>\n",
       "      <td>0.773212</td>\n",
       "    </tr>\n",
       "    <tr>\n",
       "      <th>3</th>\n",
       "      <td>21903</td>\n",
       "      <td>33971</td>\n",
       "      <td>26233</td>\n",
       "      <td>0.772217</td>\n",
       "    </tr>\n",
       "    <tr>\n",
       "      <th>4</th>\n",
       "      <td>47209</td>\n",
       "      <td>29773</td>\n",
       "      <td>23629</td>\n",
       "      <td>0.793639</td>\n",
       "    </tr>\n",
       "    <tr>\n",
       "      <th>...</th>\n",
       "      <td>...</td>\n",
       "      <td>...</td>\n",
       "      <td>...</td>\n",
       "      <td>...</td>\n",
       "    </tr>\n",
       "    <tr>\n",
       "      <th>45568</th>\n",
       "      <td>5836</td>\n",
       "      <td>1</td>\n",
       "      <td>1</td>\n",
       "      <td>1.000000</td>\n",
       "    </tr>\n",
       "    <tr>\n",
       "      <th>45569</th>\n",
       "      <td>43573</td>\n",
       "      <td>1</td>\n",
       "      <td>0</td>\n",
       "      <td>0.000000</td>\n",
       "    </tr>\n",
       "    <tr>\n",
       "      <th>45570</th>\n",
       "      <td>43570</td>\n",
       "      <td>1</td>\n",
       "      <td>0</td>\n",
       "      <td>0.000000</td>\n",
       "    </tr>\n",
       "    <tr>\n",
       "      <th>45571</th>\n",
       "      <td>36174</td>\n",
       "      <td>1</td>\n",
       "      <td>0</td>\n",
       "      <td>0.000000</td>\n",
       "    </tr>\n",
       "    <tr>\n",
       "      <th>45572</th>\n",
       "      <td>41403</td>\n",
       "      <td>1</td>\n",
       "      <td>0</td>\n",
       "      <td>0.000000</td>\n",
       "    </tr>\n",
       "  </tbody>\n",
       "</table>\n",
       "<p>45573 rows × 4 columns</p>\n",
       "</div>"
      ],
      "text/plain": [
       "       product_id  reordered_0  reordered_1  tasa_repeticion\n",
       "0           24852        66050        55763         0.844254\n",
       "1           13176        53297        44450         0.834006\n",
       "2           21137        37039        28639         0.773212\n",
       "3           21903        33971        26233         0.772217\n",
       "4           47209        29773        23629         0.793639\n",
       "...           ...          ...          ...              ...\n",
       "45568        5836            1            1         1.000000\n",
       "45569       43573            1            0         0.000000\n",
       "45570       43570            1            0         0.000000\n",
       "45571       36174            1            0         0.000000\n",
       "45572       41403            1            0         0.000000\n",
       "\n",
       "[45573 rows x 4 columns]"
      ]
     },
     "metadata": {},
     "output_type": "display_data"
    },
    {
     "data": {
      "text/html": [
       "<div>\n",
       "<style scoped>\n",
       "    .dataframe tbody tr th:only-of-type {\n",
       "        vertical-align: middle;\n",
       "    }\n",
       "\n",
       "    .dataframe tbody tr th {\n",
       "        vertical-align: top;\n",
       "    }\n",
       "\n",
       "    .dataframe thead th {\n",
       "        text-align: right;\n",
       "    }\n",
       "</style>\n",
       "<table border=\"1\" class=\"dataframe\">\n",
       "  <thead>\n",
       "    <tr style=\"text-align: right;\">\n",
       "      <th></th>\n",
       "      <th>product_id</th>\n",
       "      <th>reordered_0</th>\n",
       "      <th>reordered_1</th>\n",
       "      <th>tasa_repeticion</th>\n",
       "    </tr>\n",
       "  </thead>\n",
       "  <tbody>\n",
       "    <tr>\n",
       "      <th>40139</th>\n",
       "      <td>39633</td>\n",
       "      <td>2</td>\n",
       "      <td>0</td>\n",
       "      <td>0.000000</td>\n",
       "    </tr>\n",
       "    <tr>\n",
       "      <th>42510</th>\n",
       "      <td>8704</td>\n",
       "      <td>1</td>\n",
       "      <td>0</td>\n",
       "      <td>0.000000</td>\n",
       "    </tr>\n",
       "    <tr>\n",
       "      <th>20125</th>\n",
       "      <td>11801</td>\n",
       "      <td>14</td>\n",
       "      <td>4</td>\n",
       "      <td>0.285714</td>\n",
       "    </tr>\n",
       "    <tr>\n",
       "      <th>35851</th>\n",
       "      <td>15524</td>\n",
       "      <td>3</td>\n",
       "      <td>1</td>\n",
       "      <td>0.333333</td>\n",
       "    </tr>\n",
       "    <tr>\n",
       "      <th>8872</th>\n",
       "      <td>14087</td>\n",
       "      <td>63</td>\n",
       "      <td>32</td>\n",
       "      <td>0.507937</td>\n",
       "    </tr>\n",
       "    <tr>\n",
       "      <th>349</th>\n",
       "      <td>29662</td>\n",
       "      <td>1778</td>\n",
       "      <td>815</td>\n",
       "      <td>0.458380</td>\n",
       "    </tr>\n",
       "    <tr>\n",
       "      <th>2376</th>\n",
       "      <td>424</td>\n",
       "      <td>335</td>\n",
       "      <td>122</td>\n",
       "      <td>0.364179</td>\n",
       "    </tr>\n",
       "    <tr>\n",
       "      <th>21064</th>\n",
       "      <td>42314</td>\n",
       "      <td>13</td>\n",
       "      <td>3</td>\n",
       "      <td>0.230769</td>\n",
       "    </tr>\n",
       "    <tr>\n",
       "      <th>771</th>\n",
       "      <td>4138</td>\n",
       "      <td>970</td>\n",
       "      <td>519</td>\n",
       "      <td>0.535052</td>\n",
       "    </tr>\n",
       "    <tr>\n",
       "      <th>37103</th>\n",
       "      <td>17913</td>\n",
       "      <td>2</td>\n",
       "      <td>0</td>\n",
       "      <td>0.000000</td>\n",
       "    </tr>\n",
       "    <tr>\n",
       "      <th>24716</th>\n",
       "      <td>24734</td>\n",
       "      <td>9</td>\n",
       "      <td>3</td>\n",
       "      <td>0.333333</td>\n",
       "    </tr>\n",
       "    <tr>\n",
       "      <th>5783</th>\n",
       "      <td>22120</td>\n",
       "      <td>117</td>\n",
       "      <td>49</td>\n",
       "      <td>0.418803</td>\n",
       "    </tr>\n",
       "    <tr>\n",
       "      <th>24483</th>\n",
       "      <td>29990</td>\n",
       "      <td>9</td>\n",
       "      <td>3</td>\n",
       "      <td>0.333333</td>\n",
       "    </tr>\n",
       "    <tr>\n",
       "      <th>7673</th>\n",
       "      <td>22454</td>\n",
       "      <td>79</td>\n",
       "      <td>44</td>\n",
       "      <td>0.556962</td>\n",
       "    </tr>\n",
       "    <tr>\n",
       "      <th>35550</th>\n",
       "      <td>11839</td>\n",
       "      <td>3</td>\n",
       "      <td>1</td>\n",
       "      <td>0.333333</td>\n",
       "    </tr>\n",
       "    <tr>\n",
       "      <th>23383</th>\n",
       "      <td>4023</td>\n",
       "      <td>10</td>\n",
       "      <td>8</td>\n",
       "      <td>0.800000</td>\n",
       "    </tr>\n",
       "    <tr>\n",
       "      <th>34503</th>\n",
       "      <td>5864</td>\n",
       "      <td>3</td>\n",
       "      <td>0</td>\n",
       "      <td>0.000000</td>\n",
       "    </tr>\n",
       "    <tr>\n",
       "      <th>30141</th>\n",
       "      <td>13725</td>\n",
       "      <td>5</td>\n",
       "      <td>2</td>\n",
       "      <td>0.400000</td>\n",
       "    </tr>\n",
       "    <tr>\n",
       "      <th>39644</th>\n",
       "      <td>30828</td>\n",
       "      <td>2</td>\n",
       "      <td>2</td>\n",
       "      <td>1.000000</td>\n",
       "    </tr>\n",
       "    <tr>\n",
       "      <th>12052</th>\n",
       "      <td>6006</td>\n",
       "      <td>38</td>\n",
       "      <td>18</td>\n",
       "      <td>0.473684</td>\n",
       "    </tr>\n",
       "  </tbody>\n",
       "</table>\n",
       "</div>"
      ],
      "text/plain": [
       "       product_id  reordered_0  reordered_1  tasa_repeticion\n",
       "40139       39633            2            0         0.000000\n",
       "42510        8704            1            0         0.000000\n",
       "20125       11801           14            4         0.285714\n",
       "35851       15524            3            1         0.333333\n",
       "8872        14087           63           32         0.507937\n",
       "349         29662         1778          815         0.458380\n",
       "2376          424          335          122         0.364179\n",
       "21064       42314           13            3         0.230769\n",
       "771          4138          970          519         0.535052\n",
       "37103       17913            2            0         0.000000\n",
       "24716       24734            9            3         0.333333\n",
       "5783        22120          117           49         0.418803\n",
       "24483       29990            9            3         0.333333\n",
       "7673        22454           79           44         0.556962\n",
       "35550       11839            3            1         0.333333\n",
       "23383        4023           10            8         0.800000\n",
       "34503        5864            3            0         0.000000\n",
       "30141       13725            5            2         0.400000\n",
       "39644       30828            2            2         1.000000\n",
       "12052        6006           38           18         0.473684"
      ]
     },
     "metadata": {},
     "output_type": "display_data"
    }
   ],
   "source": [
    "# se calcula la tasa de repetición del pedido\n",
    "merge_pedidos_x_producto_y_reordenados['tasa_repeticion'] = merge_pedidos_x_producto_y_reordenados['reordered_1']/merge_pedidos_x_producto_y_reordenados['reordered_0']\n",
    "display(merge_pedidos_x_producto_y_reordenados)\n",
    "display(merge_pedidos_x_producto_y_reordenados.sample(20))"
   ]
  },
  {
   "cell_type": "markdown",
   "id": "I10dEIAyldcO",
   "metadata": {
    "id": "I10dEIAyldcO"
   },
   "source": [
    "Escribe aquí tus conclusiones\n",
    "\n",
    "- A pesar de que hay productos que no se ordenan con mucha frecuencia, algunos cuentan con una tasa de repetición por encima del 0.50 lo cual según el tipo de análisis que se quiera hacer, puede ser engañoso al igual que los que tienen una tasa de 1.0."
   ]
  },
  {
   "cell_type": "markdown",
   "id": "subject-boxing",
   "metadata": {
    "id": "subject-boxing"
   },
   "source": [
    "### [C4] Para cada cliente, ¿qué proporción de sus productos ya los había pedido?"
   ]
  },
  {
   "cell_type": "code",
   "execution_count": 60,
   "id": "medical-couple",
   "metadata": {
    "id": "medical-couple",
    "scrolled": true
   },
   "outputs": [],
   "source": [
    "# Une ambos DF a partir de la columna order_id\n",
    "order_instacart_merge = df_order.merge(df_instacart, on='order_id')"
   ]
  },
  {
   "cell_type": "code",
   "execution_count": 61,
   "id": "8892e4b4",
   "metadata": {
    "id": "8892e4b4"
   },
   "outputs": [],
   "source": [
    "# Agrupa el DF por ID de usuario y aplica las funciones de agregación count y sum a la columna reordered\n",
    "x = order_instacart_merge.groupby('user_id').agg({'reordered':['count','sum']})\n",
    "# cambia los nombres de las columnas\n",
    "x.columns= ['total_pedidos','reordenados']"
   ]
  },
  {
   "cell_type": "code",
   "execution_count": 62,
   "id": "15a433a5-5c84-4ddf-9e3e-a2985c7c013e",
   "metadata": {},
   "outputs": [
    {
     "data": {
      "text/html": [
       "<div>\n",
       "<style scoped>\n",
       "    .dataframe tbody tr th:only-of-type {\n",
       "        vertical-align: middle;\n",
       "    }\n",
       "\n",
       "    .dataframe tbody tr th {\n",
       "        vertical-align: top;\n",
       "    }\n",
       "\n",
       "    .dataframe thead th {\n",
       "        text-align: right;\n",
       "    }\n",
       "</style>\n",
       "<table border=\"1\" class=\"dataframe\">\n",
       "  <thead>\n",
       "    <tr style=\"text-align: right;\">\n",
       "      <th></th>\n",
       "      <th>total_pedidos</th>\n",
       "      <th>reordenados</th>\n",
       "      <th>proporcion</th>\n",
       "    </tr>\n",
       "    <tr>\n",
       "      <th>user_id</th>\n",
       "      <th></th>\n",
       "      <th></th>\n",
       "      <th></th>\n",
       "    </tr>\n",
       "  </thead>\n",
       "  <tbody>\n",
       "    <tr>\n",
       "      <th>2</th>\n",
       "      <td>26</td>\n",
       "      <td>1</td>\n",
       "      <td>0.038462</td>\n",
       "    </tr>\n",
       "    <tr>\n",
       "      <th>4</th>\n",
       "      <td>2</td>\n",
       "      <td>0</td>\n",
       "      <td>0.000000</td>\n",
       "    </tr>\n",
       "    <tr>\n",
       "      <th>5</th>\n",
       "      <td>12</td>\n",
       "      <td>8</td>\n",
       "      <td>0.666667</td>\n",
       "    </tr>\n",
       "    <tr>\n",
       "      <th>6</th>\n",
       "      <td>4</td>\n",
       "      <td>0</td>\n",
       "      <td>0.000000</td>\n",
       "    </tr>\n",
       "    <tr>\n",
       "      <th>7</th>\n",
       "      <td>14</td>\n",
       "      <td>13</td>\n",
       "      <td>0.928571</td>\n",
       "    </tr>\n",
       "    <tr>\n",
       "      <th>...</th>\n",
       "      <td>...</td>\n",
       "      <td>...</td>\n",
       "      <td>...</td>\n",
       "    </tr>\n",
       "    <tr>\n",
       "      <th>206203</th>\n",
       "      <td>27</td>\n",
       "      <td>6</td>\n",
       "      <td>0.222222</td>\n",
       "    </tr>\n",
       "    <tr>\n",
       "      <th>206206</th>\n",
       "      <td>21</td>\n",
       "      <td>15</td>\n",
       "      <td>0.714286</td>\n",
       "    </tr>\n",
       "    <tr>\n",
       "      <th>206207</th>\n",
       "      <td>46</td>\n",
       "      <td>41</td>\n",
       "      <td>0.891304</td>\n",
       "    </tr>\n",
       "    <tr>\n",
       "      <th>206208</th>\n",
       "      <td>125</td>\n",
       "      <td>87</td>\n",
       "      <td>0.696000</td>\n",
       "    </tr>\n",
       "    <tr>\n",
       "      <th>206209</th>\n",
       "      <td>25</td>\n",
       "      <td>8</td>\n",
       "      <td>0.320000</td>\n",
       "    </tr>\n",
       "  </tbody>\n",
       "</table>\n",
       "<p>149626 rows × 3 columns</p>\n",
       "</div>"
      ],
      "text/plain": [
       "         total_pedidos  reordenados  proporcion\n",
       "user_id                                        \n",
       "2                   26            1    0.038462\n",
       "4                    2            0    0.000000\n",
       "5                   12            8    0.666667\n",
       "6                    4            0    0.000000\n",
       "7                   14           13    0.928571\n",
       "...                ...          ...         ...\n",
       "206203              27            6    0.222222\n",
       "206206              21           15    0.714286\n",
       "206207              46           41    0.891304\n",
       "206208             125           87    0.696000\n",
       "206209              25            8    0.320000\n",
       "\n",
       "[149626 rows x 3 columns]"
      ]
     },
     "metadata": {},
     "output_type": "display_data"
    }
   ],
   "source": [
    "# calcula la proporción dividiendo ambas columnas (reordenados/total pedidos)\n",
    "x['proporcion'] = x['reordenados']/x['total_pedidos']\n",
    "display(x)"
   ]
  },
  {
   "cell_type": "markdown",
   "id": "BgJSvXDsleXz",
   "metadata": {
    "id": "BgJSvXDsleXz"
   },
   "source": [
    "Escribe aquí tus conclusiones\n",
    "\n",
    "- Podríamos comentar que hay usuarios que realizan pedidos de casi los mismos productos, sin embargo, también se puede apreciar que hay quienes piden productos nuevos en su lista de productos, esto puede deberse a que sean usuarios nuevos."
   ]
  },
  {
   "cell_type": "markdown",
   "id": "92d35137",
   "metadata": {
    "id": "92d35137"
   },
   "source": [
    "### [C5] ¿Cuáles son los 20 principales artículos que las personas ponen primero en sus carritos?"
   ]
  },
  {
   "cell_type": "code",
   "execution_count": 63,
   "id": "0ae57274",
   "metadata": {
    "id": "0ae57274",
    "scrolled": true
   },
   "outputs": [],
   "source": [
    "# tomando una de las variables anteriores 'order_instacart_merge', se filtró el df para tener únicamente el primer producto de cada pedido\n",
    "productos_principales = order_instacart_merge[order_instacart_merge['add_to_cart_order'] == 1]"
   ]
  },
  {
   "cell_type": "code",
   "execution_count": 64,
   "id": "4dc3b2d0-b98e-4e5a-ada5-b34a7512bda7",
   "metadata": {},
   "outputs": [],
   "source": [
    "# agrupación de la variable anterior por ID de producto y contar la repetición de cada producto como primero en carrito\n",
    "productos_principales = productos_principales.groupby('product_id')['add_to_cart_order'].count().reset_index()"
   ]
  },
  {
   "cell_type": "code",
   "execution_count": 65,
   "id": "forty-netherlands",
   "metadata": {
    "id": "forty-netherlands",
    "scrolled": true
   },
   "outputs": [],
   "source": [
    "# se crea un top 20 de la variable anterior ordenandola de mayor a menor y tomando sus 20 valores más frecuentes\n",
    "top_20_principales = productos_principales.sort_values(by='add_to_cart_order',ascending=False).head(20)"
   ]
  },
  {
   "cell_type": "code",
   "execution_count": 66,
   "id": "08e41ec2",
   "metadata": {
    "id": "08e41ec2"
   },
   "outputs": [
    {
     "data": {
      "text/html": [
       "<div>\n",
       "<style scoped>\n",
       "    .dataframe tbody tr th:only-of-type {\n",
       "        vertical-align: middle;\n",
       "    }\n",
       "\n",
       "    .dataframe tbody tr th {\n",
       "        vertical-align: top;\n",
       "    }\n",
       "\n",
       "    .dataframe thead th {\n",
       "        text-align: right;\n",
       "    }\n",
       "</style>\n",
       "<table border=\"1\" class=\"dataframe\">\n",
       "  <thead>\n",
       "    <tr style=\"text-align: right;\">\n",
       "      <th></th>\n",
       "      <th>product_id</th>\n",
       "      <th>conteo_primer_producto</th>\n",
       "      <th>producto</th>\n",
       "    </tr>\n",
       "  </thead>\n",
       "  <tbody>\n",
       "    <tr>\n",
       "      <th>0</th>\n",
       "      <td>24852</td>\n",
       "      <td>15562</td>\n",
       "      <td>BANANA</td>\n",
       "    </tr>\n",
       "    <tr>\n",
       "      <th>1</th>\n",
       "      <td>13176</td>\n",
       "      <td>11026</td>\n",
       "      <td>BAG OF ORGANIC BANANAS</td>\n",
       "    </tr>\n",
       "    <tr>\n",
       "      <th>2</th>\n",
       "      <td>27845</td>\n",
       "      <td>4363</td>\n",
       "      <td>ORGANIC WHOLE MILK</td>\n",
       "    </tr>\n",
       "    <tr>\n",
       "      <th>3</th>\n",
       "      <td>21137</td>\n",
       "      <td>3946</td>\n",
       "      <td>ORGANIC STRAWBERRIES</td>\n",
       "    </tr>\n",
       "    <tr>\n",
       "      <th>4</th>\n",
       "      <td>47209</td>\n",
       "      <td>3390</td>\n",
       "      <td>ORGANIC HASS AVOCADO</td>\n",
       "    </tr>\n",
       "    <tr>\n",
       "      <th>5</th>\n",
       "      <td>21903</td>\n",
       "      <td>3336</td>\n",
       "      <td>ORGANIC BABY SPINACH</td>\n",
       "    </tr>\n",
       "    <tr>\n",
       "      <th>6</th>\n",
       "      <td>47766</td>\n",
       "      <td>3044</td>\n",
       "      <td>ORGANIC AVOCADO</td>\n",
       "    </tr>\n",
       "    <tr>\n",
       "      <th>7</th>\n",
       "      <td>19660</td>\n",
       "      <td>2336</td>\n",
       "      <td>SPRING WATER</td>\n",
       "    </tr>\n",
       "    <tr>\n",
       "      <th>8</th>\n",
       "      <td>16797</td>\n",
       "      <td>2308</td>\n",
       "      <td>STRAWBERRIES</td>\n",
       "    </tr>\n",
       "    <tr>\n",
       "      <th>9</th>\n",
       "      <td>27966</td>\n",
       "      <td>2024</td>\n",
       "      <td>ORGANIC RASPBERRIES</td>\n",
       "    </tr>\n",
       "    <tr>\n",
       "      <th>10</th>\n",
       "      <td>44632</td>\n",
       "      <td>1914</td>\n",
       "      <td>SPARKLING WATER GRAPEFRUIT</td>\n",
       "    </tr>\n",
       "    <tr>\n",
       "      <th>11</th>\n",
       "      <td>49235</td>\n",
       "      <td>1797</td>\n",
       "      <td>ORGANIC HALF &amp; HALF</td>\n",
       "    </tr>\n",
       "    <tr>\n",
       "      <th>12</th>\n",
       "      <td>47626</td>\n",
       "      <td>1737</td>\n",
       "      <td>LARGE LEMON</td>\n",
       "    </tr>\n",
       "    <tr>\n",
       "      <th>13</th>\n",
       "      <td>196</td>\n",
       "      <td>1733</td>\n",
       "      <td>SODA</td>\n",
       "    </tr>\n",
       "    <tr>\n",
       "      <th>14</th>\n",
       "      <td>38689</td>\n",
       "      <td>1397</td>\n",
       "      <td>ORGANIC REDUCED FAT MILK</td>\n",
       "    </tr>\n",
       "    <tr>\n",
       "      <th>15</th>\n",
       "      <td>26209</td>\n",
       "      <td>1370</td>\n",
       "      <td>LIMES</td>\n",
       "    </tr>\n",
       "    <tr>\n",
       "      <th>16</th>\n",
       "      <td>12341</td>\n",
       "      <td>1340</td>\n",
       "      <td>HASS AVOCADOS</td>\n",
       "    </tr>\n",
       "    <tr>\n",
       "      <th>17</th>\n",
       "      <td>5785</td>\n",
       "      <td>1310</td>\n",
       "      <td>ORGANIC REDUCED FAT 2% MILK</td>\n",
       "    </tr>\n",
       "    <tr>\n",
       "      <th>18</th>\n",
       "      <td>27086</td>\n",
       "      <td>1309</td>\n",
       "      <td>HALF &amp; HALF</td>\n",
       "    </tr>\n",
       "    <tr>\n",
       "      <th>19</th>\n",
       "      <td>43352</td>\n",
       "      <td>1246</td>\n",
       "      <td>RASPBERRIES</td>\n",
       "    </tr>\n",
       "  </tbody>\n",
       "</table>\n",
       "</div>"
      ],
      "text/plain": [
       "    product_id  conteo_primer_producto                     producto\n",
       "0        24852                   15562                       BANANA\n",
       "1        13176                   11026       BAG OF ORGANIC BANANAS\n",
       "2        27845                    4363           ORGANIC WHOLE MILK\n",
       "3        21137                    3946         ORGANIC STRAWBERRIES\n",
       "4        47209                    3390         ORGANIC HASS AVOCADO\n",
       "5        21903                    3336         ORGANIC BABY SPINACH\n",
       "6        47766                    3044              ORGANIC AVOCADO\n",
       "7        19660                    2336                 SPRING WATER\n",
       "8        16797                    2308                 STRAWBERRIES\n",
       "9        27966                    2024          ORGANIC RASPBERRIES\n",
       "10       44632                    1914   SPARKLING WATER GRAPEFRUIT\n",
       "11       49235                    1797          ORGANIC HALF & HALF\n",
       "12       47626                    1737                  LARGE LEMON\n",
       "13         196                    1733                         SODA\n",
       "14       38689                    1397     ORGANIC REDUCED FAT MILK\n",
       "15       26209                    1370                        LIMES\n",
       "16       12341                    1340                HASS AVOCADOS\n",
       "17        5785                    1310  ORGANIC REDUCED FAT 2% MILK\n",
       "18       27086                    1309                  HALF & HALF\n",
       "19       43352                    1246                  RASPBERRIES"
      ]
     },
     "metadata": {},
     "output_type": "display_data"
    }
   ],
   "source": [
    "# se junta el df del top20 con df_products desde product_id para tener el nombre de cada producto, respetando los valores del df top20\n",
    "top_20_con_nombres = top_20_principales.merge(df_products[['product_id','product_name']],on='product_id',how='left')\n",
    "#cambia el nombre de las columnas para un mejor entendimiento\n",
    "top_20_con_nombres.columns = ['product_id', 'conteo_primer_producto', 'producto']\n",
    "display(top_20_con_nombres)"
   ]
  },
  {
   "cell_type": "markdown",
   "id": "28ce9872",
   "metadata": {
    "id": "28ce9872"
   },
   "source": [
    "Escribe aquí tus conclusiones\n",
    "\n",
    "- El producto más vendido, más re ordenado y el primero en entrar en el carrito de compra de la mayoría de los usuarios son las Bananas\n",
    "- Aunque el orden de los demás productos puede variar en su cantidad de ventas y que tan a menudo lo añaden de primero al carrito, muchos mantienen buenos números.\n",
    "- La ORGANIC WHOLE MILKa pesar de no ser de las más vendidas o re ordenadas, escala a la 3ra posición como la primera en entrar a los carritos. Esto habla de lo fundamental que puede ser este producto en la alimentación de algunos usuarios."
   ]
  },
  {
   "cell_type": "markdown",
   "id": "39f295f0-dc8e-49dc-bf9d-04ea960c671c",
   "metadata": {},
   "source": [
    "<div class=\"alert alert-block alert-success\">\n",
    "<b>Comentario revisor</b> <a class=\"tocSkip\"></a>\n",
    "\n",
    "\n",
    "Gran trabajo con el desarrollo de estos ejercicios. Calculas de manera perfecta las proporciones"
   ]
  },
  {
   "cell_type": "markdown",
   "id": "uITbFCEoDosC",
   "metadata": {
    "id": "uITbFCEoDosC"
   },
   "source": [
    "### Conclusion general del proyecto:"
   ]
  },
  {
   "cell_type": "markdown",
   "id": "046fada1-7ded-4d79-9c9a-0d1860349e81",
   "metadata": {
    "id": "28ce9872"
   },
   "source": [
    "A lo largo de este proyecto mediante el uso de diversas herramientas, métodos, funciones, etc. se recalcó la importancia de analisar la información desde diferentes perspectivas para poder tomar un mejor entendimiento de la información, esto debido a que la información de primera instancia puede decir muchas cosas pero siempre será bueno ir más a fondo en la misma para poder tomar mejores decisiones."
   ]
  },
  {
   "cell_type": "markdown",
   "id": "a34f899b",
   "metadata": {},
   "source": [
    "Linea de prueba para github y git"
   ]
  }
 ],
 "metadata": {
  "ExecuteTimeLog": [
   {
    "duration": 4,
    "start_time": "2025-05-05T19:31:55.956Z"
   },
   {
    "duration": 5,
    "start_time": "2025-05-05T19:31:58.507Z"
   },
   {
    "duration": 971,
    "start_time": "2025-05-05T19:33:11.038Z"
   },
   {
    "duration": 12,
    "start_time": "2025-05-05T19:33:16.777Z"
   },
   {
    "duration": 13,
    "start_time": "2025-05-05T19:34:01.719Z"
   },
   {
    "duration": 10,
    "start_time": "2025-05-05T19:35:18.529Z"
   },
   {
    "duration": 8,
    "start_time": "2025-05-05T19:35:19.864Z"
   },
   {
    "duration": 8,
    "start_time": "2025-05-05T19:35:22.255Z"
   },
   {
    "duration": 26,
    "start_time": "2025-05-05T19:35:35.027Z"
   },
   {
    "duration": 3,
    "start_time": "2025-05-05T19:57:15.492Z"
   },
   {
    "duration": 864,
    "start_time": "2025-05-05T19:57:16.167Z"
   },
   {
    "duration": 11,
    "start_time": "2025-05-05T19:57:17.033Z"
   },
   {
    "duration": 18,
    "start_time": "2025-05-05T19:57:17.046Z"
   },
   {
    "duration": 8,
    "start_time": "2025-05-05T19:57:17.066Z"
   },
   {
    "duration": 11,
    "start_time": "2025-05-05T19:57:17.157Z"
   },
   {
    "duration": 21,
    "start_time": "2025-05-05T19:57:17.343Z"
   },
   {
    "duration": 93,
    "start_time": "2025-05-05T19:59:45.266Z"
   },
   {
    "duration": 121,
    "start_time": "2025-05-05T19:59:55.797Z"
   },
   {
    "duration": 740,
    "start_time": "2025-05-05T20:08:52.050Z"
   },
   {
    "duration": 284,
    "start_time": "2025-05-05T20:19:14.757Z"
   },
   {
    "duration": 89,
    "start_time": "2025-05-05T20:20:05.805Z"
   },
   {
    "duration": 178,
    "start_time": "2025-05-05T20:29:45.790Z"
   },
   {
    "duration": 49,
    "start_time": "2025-05-05T20:35:22.080Z"
   },
   {
    "duration": 41,
    "start_time": "2025-05-05T20:35:51.796Z"
   },
   {
    "duration": 124,
    "start_time": "2025-05-05T20:36:09.620Z"
   },
   {
    "duration": 121,
    "start_time": "2025-05-05T20:36:23.770Z"
   },
   {
    "duration": 85,
    "start_time": "2025-05-05T20:36:55.963Z"
   },
   {
    "duration": 84,
    "start_time": "2025-05-05T20:37:11.781Z"
   },
   {
    "duration": 83,
    "start_time": "2025-05-05T20:37:33.260Z"
   },
   {
    "duration": 120,
    "start_time": "2025-05-05T20:40:05.717Z"
   },
   {
    "duration": 94,
    "start_time": "2025-05-05T20:40:50.128Z"
   },
   {
    "duration": 209,
    "start_time": "2025-05-05T20:48:39.702Z"
   },
   {
    "duration": 82,
    "start_time": "2025-05-05T20:53:29.028Z"
   },
   {
    "duration": 21,
    "start_time": "2025-05-05T21:01:19.161Z"
   },
   {
    "duration": 172,
    "start_time": "2025-05-05T21:06:36.994Z"
   },
   {
    "duration": 167,
    "start_time": "2025-05-05T21:09:38.641Z"
   },
   {
    "duration": 171,
    "start_time": "2025-05-05T21:10:06.695Z"
   },
   {
    "duration": 168,
    "start_time": "2025-05-05T21:10:16.792Z"
   },
   {
    "duration": 159,
    "start_time": "2025-05-05T21:10:46.004Z"
   },
   {
    "duration": 163,
    "start_time": "2025-05-05T21:12:52.974Z"
   },
   {
    "duration": 161,
    "start_time": "2025-05-05T21:18:56.029Z"
   },
   {
    "duration": 161,
    "start_time": "2025-05-05T21:19:16.221Z"
   },
   {
    "duration": 2195,
    "start_time": "2025-05-09T03:55:07.348Z"
   },
   {
    "duration": 980,
    "start_time": "2025-05-09T03:55:09.546Z"
   },
   {
    "duration": 11,
    "start_time": "2025-05-09T03:55:10.528Z"
   },
   {
    "duration": 9,
    "start_time": "2025-05-09T03:55:10.542Z"
   },
   {
    "duration": 7,
    "start_time": "2025-05-09T03:55:10.552Z"
   },
   {
    "duration": 8,
    "start_time": "2025-05-09T03:55:10.561Z"
   },
   {
    "duration": 52,
    "start_time": "2025-05-09T03:55:10.570Z"
   },
   {
    "duration": 181,
    "start_time": "2025-05-09T03:55:24.504Z"
   },
   {
    "duration": 10,
    "start_time": "2025-05-09T03:55:26.591Z"
   },
   {
    "duration": 196,
    "start_time": "2025-05-09T03:56:50.037Z"
   },
   {
    "duration": 191,
    "start_time": "2025-05-09T03:57:18.558Z"
   },
   {
    "duration": 157,
    "start_time": "2025-05-09T03:57:34.488Z"
   },
   {
    "duration": 11,
    "start_time": "2025-05-09T03:57:52.816Z"
   },
   {
    "duration": 175,
    "start_time": "2025-05-09T03:57:57.359Z"
   },
   {
    "duration": 2,
    "start_time": "2025-05-09T03:58:09.338Z"
   },
   {
    "duration": 842,
    "start_time": "2025-05-09T03:58:09.935Z"
   },
   {
    "duration": 11,
    "start_time": "2025-05-09T03:58:10.779Z"
   },
   {
    "duration": 11,
    "start_time": "2025-05-09T03:58:11.905Z"
   },
   {
    "duration": 8,
    "start_time": "2025-05-09T03:58:12.823Z"
   },
   {
    "duration": 10,
    "start_time": "2025-05-09T03:58:13.500Z"
   },
   {
    "duration": 21,
    "start_time": "2025-05-09T03:58:14.174Z"
   },
   {
    "duration": 147,
    "start_time": "2025-05-09T03:58:17.976Z"
   },
   {
    "duration": 9,
    "start_time": "2025-05-09T03:59:11.957Z"
   },
   {
    "duration": 46,
    "start_time": "2025-05-09T04:01:51.889Z"
   },
   {
    "duration": 81,
    "start_time": "2025-05-09T04:02:11.275Z"
   },
   {
    "duration": 70,
    "start_time": "2025-05-09T04:02:49.038Z"
   },
   {
    "duration": 25,
    "start_time": "2025-05-09T04:05:18.229Z"
   },
   {
    "duration": 40,
    "start_time": "2025-05-09T04:05:36.809Z"
   },
   {
    "duration": 15,
    "start_time": "2025-05-09T04:09:24.010Z"
   },
   {
    "duration": 3,
    "start_time": "2025-05-09T04:11:04.424Z"
   },
   {
    "duration": 8,
    "start_time": "2025-05-09T04:11:45.408Z"
   },
   {
    "duration": 21,
    "start_time": "2025-05-09T04:23:36.359Z"
   },
   {
    "duration": 23,
    "start_time": "2025-05-09T04:25:12.129Z"
   },
   {
    "duration": 5,
    "start_time": "2025-05-09T04:26:43.030Z"
   },
   {
    "duration": 4,
    "start_time": "2025-05-09T04:26:52.607Z"
   },
   {
    "duration": 6,
    "start_time": "2025-05-09T04:27:01.441Z"
   },
   {
    "duration": 9,
    "start_time": "2025-05-09T04:27:32.580Z"
   },
   {
    "duration": 9,
    "start_time": "2025-05-09T04:27:44.680Z"
   },
   {
    "duration": 9,
    "start_time": "2025-05-09T04:27:45.700Z"
   },
   {
    "duration": 10,
    "start_time": "2025-05-09T04:27:46.610Z"
   },
   {
    "duration": 5,
    "start_time": "2025-05-09T04:27:54.529Z"
   },
   {
    "duration": 4,
    "start_time": "2025-05-09T04:28:00.684Z"
   },
   {
    "duration": 5,
    "start_time": "2025-05-09T04:28:03.810Z"
   },
   {
    "duration": 10,
    "start_time": "2025-05-09T04:28:08.612Z"
   },
   {
    "duration": 5,
    "start_time": "2025-05-09T04:28:11.089Z"
   },
   {
    "duration": 5,
    "start_time": "2025-05-09T04:28:17.626Z"
   },
   {
    "duration": 20,
    "start_time": "2025-05-09T04:28:50.286Z"
   },
   {
    "duration": 6,
    "start_time": "2025-05-09T04:32:47.409Z"
   },
   {
    "duration": 6,
    "start_time": "2025-05-09T04:32:58.895Z"
   },
   {
    "duration": 7,
    "start_time": "2025-05-09T04:38:39.433Z"
   },
   {
    "duration": 4,
    "start_time": "2025-05-09T04:38:45.976Z"
   },
   {
    "duration": 220,
    "start_time": "2025-05-09T04:38:53.658Z"
   },
   {
    "duration": 15,
    "start_time": "2025-05-09T04:38:59.856Z"
   },
   {
    "duration": 10,
    "start_time": "2025-05-09T04:39:22.531Z"
   },
   {
    "duration": 15,
    "start_time": "2025-05-09T04:39:29.402Z"
   },
   {
    "duration": 3,
    "start_time": "2025-05-09T04:39:37.417Z"
   },
   {
    "duration": 6,
    "start_time": "2025-05-09T04:39:41.210Z"
   },
   {
    "duration": 15,
    "start_time": "2025-05-09T04:40:07.855Z"
   },
   {
    "duration": 17,
    "start_time": "2025-05-09T04:40:43.610Z"
   },
   {
    "duration": 6,
    "start_time": "2025-05-09T04:41:52.233Z"
   },
   {
    "duration": 6,
    "start_time": "2025-05-09T04:42:44.570Z"
   },
   {
    "duration": 6,
    "start_time": "2025-05-09T04:44:16.848Z"
   },
   {
    "duration": 7,
    "start_time": "2025-05-09T04:45:00.066Z"
   },
   {
    "duration": 16,
    "start_time": "2025-05-09T04:45:18.650Z"
   },
   {
    "duration": 18,
    "start_time": "2025-05-09T04:46:52.637Z"
   },
   {
    "duration": 23,
    "start_time": "2025-05-09T04:46:57.848Z"
   },
   {
    "duration": 17,
    "start_time": "2025-05-09T04:47:06.423Z"
   },
   {
    "duration": 19,
    "start_time": "2025-05-09T04:47:53.420Z"
   },
   {
    "duration": 20,
    "start_time": "2025-05-09T04:48:55.520Z"
   },
   {
    "duration": 13,
    "start_time": "2025-05-09T04:51:46.996Z"
   },
   {
    "duration": 12,
    "start_time": "2025-05-09T04:51:53.106Z"
   },
   {
    "duration": 24,
    "start_time": "2025-05-09T04:52:00.427Z"
   },
   {
    "duration": 10,
    "start_time": "2025-05-09T04:52:43.654Z"
   },
   {
    "duration": 20,
    "start_time": "2025-05-09T04:52:47.926Z"
   },
   {
    "duration": 18,
    "start_time": "2025-05-09T04:52:49.825Z"
   },
   {
    "duration": 4,
    "start_time": "2025-05-09T04:59:35.326Z"
   },
   {
    "duration": 4,
    "start_time": "2025-05-09T05:00:45.074Z"
   },
   {
    "duration": 4,
    "start_time": "2025-05-09T05:02:10.935Z"
   },
   {
    "duration": 4,
    "start_time": "2025-05-09T05:04:13.470Z"
   },
   {
    "duration": 458,
    "start_time": "2025-05-09T05:07:33.256Z"
   },
   {
    "duration": 4,
    "start_time": "2025-05-09T05:07:58.246Z"
   },
   {
    "duration": 14,
    "start_time": "2025-05-09T05:08:26.732Z"
   },
   {
    "duration": 4,
    "start_time": "2025-05-09T05:08:48.338Z"
   },
   {
    "duration": 4,
    "start_time": "2025-05-09T05:08:55.399Z"
   },
   {
    "duration": 1012,
    "start_time": "2025-05-09T05:11:30.328Z"
   },
   {
    "duration": 955,
    "start_time": "2025-05-09T05:11:33.187Z"
   },
   {
    "duration": 16,
    "start_time": "2025-05-09T05:15:04.707Z"
   },
   {
    "duration": 13,
    "start_time": "2025-05-09T05:16:10.624Z"
   },
   {
    "duration": 226,
    "start_time": "2025-05-09T05:16:58.734Z"
   },
   {
    "duration": 177,
    "start_time": "2025-05-09T05:17:14.284Z"
   },
   {
    "duration": 170,
    "start_time": "2025-05-09T05:17:58.621Z"
   },
   {
    "duration": 196,
    "start_time": "2025-05-09T05:19:07.946Z"
   },
   {
    "duration": 180,
    "start_time": "2025-05-09T05:22:02.494Z"
   },
   {
    "duration": 28,
    "start_time": "2025-05-09T05:22:54.106Z"
   },
   {
    "duration": 222,
    "start_time": "2025-05-09T05:24:26.645Z"
   },
   {
    "duration": 446,
    "start_time": "2025-05-09T05:25:25.293Z"
   },
   {
    "duration": 419,
    "start_time": "2025-05-09T05:27:26.137Z"
   },
   {
    "duration": 434,
    "start_time": "2025-05-09T05:29:16.820Z"
   },
   {
    "duration": 394,
    "start_time": "2025-05-09T05:29:22.161Z"
   },
   {
    "duration": 390,
    "start_time": "2025-05-09T05:30:03.382Z"
   },
   {
    "duration": 221,
    "start_time": "2025-05-09T05:30:29.201Z"
   },
   {
    "duration": 236,
    "start_time": "2025-05-09T05:30:39.974Z"
   },
   {
    "duration": 228,
    "start_time": "2025-05-09T05:31:15.423Z"
   },
   {
    "duration": 418,
    "start_time": "2025-05-09T05:32:28.340Z"
   },
   {
    "duration": 237,
    "start_time": "2025-05-09T05:32:49.276Z"
   },
   {
    "duration": 2146,
    "start_time": "2025-05-09T15:27:10.276Z"
   },
   {
    "duration": 994,
    "start_time": "2025-05-09T15:27:12.425Z"
   },
   {
    "duration": 11,
    "start_time": "2025-05-09T15:27:13.421Z"
   },
   {
    "duration": 9,
    "start_time": "2025-05-09T15:27:13.435Z"
   },
   {
    "duration": 9,
    "start_time": "2025-05-09T15:27:13.445Z"
   },
   {
    "duration": 8,
    "start_time": "2025-05-09T15:27:13.455Z"
   },
   {
    "duration": 21,
    "start_time": "2025-05-09T15:27:13.465Z"
   },
   {
    "duration": 176,
    "start_time": "2025-05-09T15:27:14.898Z"
   },
   {
    "duration": 11,
    "start_time": "2025-05-09T15:27:15.492Z"
   },
   {
    "duration": 61,
    "start_time": "2025-05-09T15:27:16.113Z"
   },
   {
    "duration": 87,
    "start_time": "2025-05-09T15:27:16.420Z"
   },
   {
    "duration": 46,
    "start_time": "2025-05-09T15:27:16.769Z"
   },
   {
    "duration": 14,
    "start_time": "2025-05-09T15:27:21.156Z"
   },
   {
    "duration": 4,
    "start_time": "2025-05-09T15:27:21.569Z"
   },
   {
    "duration": 27,
    "start_time": "2025-05-09T15:27:21.905Z"
   },
   {
    "duration": 17,
    "start_time": "2025-05-09T15:27:22.252Z"
   },
   {
    "duration": 4,
    "start_time": "2025-05-09T15:27:23.328Z"
   },
   {
    "duration": 3,
    "start_time": "2025-05-09T15:27:23.648Z"
   },
   {
    "duration": 4,
    "start_time": "2025-05-09T15:27:24.644Z"
   },
   {
    "duration": 4,
    "start_time": "2025-05-09T15:27:25.061Z"
   },
   {
    "duration": 723,
    "start_time": "2025-05-09T15:27:26.901Z"
   },
   {
    "duration": 120,
    "start_time": "2025-05-09T15:27:27.632Z"
   },
   {
    "duration": 5,
    "start_time": "2025-05-09T15:53:03.501Z"
   },
   {
    "duration": 213,
    "start_time": "2025-05-09T15:53:08.215Z"
   },
   {
    "duration": 14,
    "start_time": "2025-05-09T15:53:15.896Z"
   },
   {
    "duration": 6,
    "start_time": "2025-05-09T15:53:21.771Z"
   },
   {
    "duration": 6,
    "start_time": "2025-05-09T15:56:42.408Z"
   },
   {
    "duration": 3,
    "start_time": "2025-05-09T15:57:14.217Z"
   },
   {
    "duration": 14,
    "start_time": "2025-05-09T15:57:20.943Z"
   },
   {
    "duration": 8,
    "start_time": "2025-05-09T15:57:28.891Z"
   },
   {
    "duration": 6,
    "start_time": "2025-05-09T16:03:56.406Z"
   },
   {
    "duration": 9,
    "start_time": "2025-05-09T16:04:19.845Z"
   },
   {
    "duration": 5,
    "start_time": "2025-05-09T16:06:40.199Z"
   },
   {
    "duration": 19,
    "start_time": "2025-05-09T16:06:47.060Z"
   },
   {
    "duration": 9,
    "start_time": "2025-05-09T16:07:13.127Z"
   },
   {
    "duration": 3,
    "start_time": "2025-05-09T16:07:22.889Z"
   },
   {
    "duration": 9,
    "start_time": "2025-05-09T16:07:40.292Z"
   },
   {
    "duration": 9,
    "start_time": "2025-05-09T16:08:08.518Z"
   },
   {
    "duration": 4,
    "start_time": "2025-05-09T16:08:37.412Z"
   },
   {
    "duration": 3,
    "start_time": "2025-05-09T16:11:28.882Z"
   },
   {
    "duration": 5,
    "start_time": "2025-05-09T16:12:11.173Z"
   },
   {
    "duration": 4,
    "start_time": "2025-05-09T16:12:47.362Z"
   },
   {
    "duration": 3,
    "start_time": "2025-05-09T16:19:25.271Z"
   },
   {
    "duration": 4,
    "start_time": "2025-05-09T16:19:38.933Z"
   },
   {
    "duration": 398,
    "start_time": "2025-05-09T16:19:50.177Z"
   },
   {
    "duration": 45,
    "start_time": "2025-05-09T16:20:07.552Z"
   },
   {
    "duration": 5,
    "start_time": "2025-05-09T16:20:33.616Z"
   },
   {
    "duration": 4,
    "start_time": "2025-05-09T16:22:09.266Z"
   },
   {
    "duration": 5,
    "start_time": "2025-05-09T16:50:06.387Z"
   },
   {
    "duration": 12,
    "start_time": "2025-05-09T16:50:13.573Z"
   },
   {
    "duration": 9,
    "start_time": "2025-05-09T17:06:53.430Z"
   },
   {
    "duration": 150,
    "start_time": "2025-05-09T17:09:21.279Z"
   },
   {
    "duration": 8,
    "start_time": "2025-05-09T17:09:26.798Z"
   }
  ],
  "colab": {
   "provenance": [
    {
     "file_id": "1aLGZ19-GYem3LZdYHuzuwYIeSw_tr0AT",
     "timestamp": 1689682143157
    }
   ]
  },
  "kernelspec": {
   "display_name": "Python 3 (ipykernel)",
   "language": "python",
   "name": "python3"
  },
  "language_info": {
   "codemirror_mode": {
    "name": "ipython",
    "version": 3
   },
   "file_extension": ".py",
   "mimetype": "text/x-python",
   "name": "python",
   "nbconvert_exporter": "python",
   "pygments_lexer": "ipython3",
   "version": "3.9.22"
  },
  "toc": {
   "base_numbering": 1,
   "nav_menu": {},
   "number_sections": true,
   "sideBar": true,
   "skip_h1_title": true,
   "title_cell": "Table of Contents",
   "title_sidebar": "Contents",
   "toc_cell": false,
   "toc_position": {},
   "toc_section_display": true,
   "toc_window_display": false
  },
  "vscode": {
   "interpreter": {
    "hash": "01a7be9ec63e704a62cefc5fe7a4756944464ee731be31632bdf42a4cb4688cf"
   }
  }
 },
 "nbformat": 4,
 "nbformat_minor": 5
}
